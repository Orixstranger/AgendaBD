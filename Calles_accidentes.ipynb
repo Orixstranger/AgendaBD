{
  "nbformat": 4,
  "nbformat_minor": 0,
  "metadata": {
    "colab": {
      "name": "Calles accidentes.ipynb",
      "provenance": [],
      "collapsed_sections": [],
      "authorship_tag": "ABX9TyP1iUIZUZH+jlCO/uVYTM6d",
      "include_colab_link": true
    },
    "kernelspec": {
      "name": "python3",
      "display_name": "Python 3"
    },
    "language_info": {
      "name": "python"
    }
  },
  "cells": [
    {
      "cell_type": "markdown",
      "metadata": {
        "id": "view-in-github",
        "colab_type": "text"
      },
      "source": [
        "<a href=\"https://colab.research.google.com/github/Orixstranger/AgendaBD/blob/master/Calles_accidentes.ipynb\" target=\"_parent\"><img src=\"https://colab.research.google.com/assets/colab-badge.svg\" alt=\"Open In Colab\"/></a>"
      ]
    },
    {
      "cell_type": "code",
      "source": [
        "!pip install plotly\n",
        "import numpy as np #Operaciones matemáticas rápidas sobre matrices\n",
        "import pandas as pd #biblioteca de análisis y manipulación de datos para Python\n",
        "import plotly.express as px\n",
        "import matplotlib.pyplot as plt #Proporciona una forma de trazado similar a MATLAB. pyplot está diseñado principalmente para gráficos interactivos y casos simples de generación de tramas programáticas. La API orientada a objetos se recomienda para gráficos más complejos.\n",
        "import seaborn as sns #permite generar fácilmente elegantes gráficos, proporciona una interfaz de alto nivel que es realmente sencilla de aprender.\n",
        "import statsmodels.api as sm\n",
        "\n",
        "# Preprocesado y modelado\n",
        "# ------------------------------------------------------------------------------\n",
        "from sklearn.model_selection import train_test_split\n",
        "from sklearn.tree import DecisionTreeClassifier\n",
        "from sklearn.tree import plot_tree\n",
        "from sklearn.tree import export_graphviz\n",
        "from sklearn.tree import export_text\n",
        "from sklearn.model_selection import GridSearchCV\n",
        "from sklearn.compose import ColumnTransformer\n",
        "from sklearn.preprocessing import OneHotEncoder\n",
        "from sklearn.metrics import accuracy_score\n",
        "from sklearn.metrics import confusion_matrix\n",
        "\n",
        "# Configuración warnings\n",
        "# ------------------------------------------------------------------------------\n",
        "import warnings\n",
        "warnings.filterwarnings('once')\n",
        "\n",
        "\n",
        "df= pd.read_csv('AT2019_NBD.csv')\n",
        "#df= pd.read_csv('NBD-csv.csv')\n",
        "#df1= pd.read_csv('AT2020_NBD.csv')\n",
        "#df2= pd.read_csv('AT2021_NBD.csv')\n",
        "#df3= pd.read_csv('AT2018_NBD.csv')\n",
        "#df=df.append(df1)\n",
        "#df=df.append(df2)\n",
        "#df=df.append(df3)\n",
        "df.head()"
      ],
      "metadata": {
        "colab": {
          "base_uri": "https://localhost:8080/",
          "height": 476
        },
        "id": "D_vRsPcBiBEj",
        "outputId": "becfc554-8667-46b1-a5e4-127ebb78368b"
      },
      "execution_count": 106,
      "outputs": [
        {
          "output_type": "stream",
          "name": "stdout",
          "text": [
            "Looking in indexes: https://pypi.org/simple, https://us-python.pkg.dev/colab-wheels/public/simple/\n",
            "Requirement already satisfied: plotly in /usr/local/lib/python3.7/dist-packages (5.5.0)\n",
            "Requirement already satisfied: tenacity>=6.2.0 in /usr/local/lib/python3.7/dist-packages (from plotly) (8.0.1)\n",
            "Requirement already satisfied: six in /usr/local/lib/python3.7/dist-packages (from plotly) (1.15.0)\n"
          ]
        },
        {
          "output_type": "execute_result",
          "data": {
            "text/plain": [
              "   fecha     dia hora   latitud   longitud               tipologia  \\\n",
              "0  01-01  martes  h04 -4.002271 -79.212242          estrellamiento   \n",
              "1  01-01  martes  h06 -4.024814 -79.203255          estrellamiento   \n",
              "2  01-01  martes  h06 -3.975969 -79.227888           roce positivo   \n",
              "3  01-01  martes  h02 -3.960426 -79.216096  choque lateral angular   \n",
              "4  01-01  martes  h03 -4.000044 -79.234883          estrellamiento   \n",
              "\n",
              "                                           direccion    zona parroquia_urbana  \\\n",
              "0                        de los paltas y caran shiri  urbana            sucre   \n",
              "1  pio jaramillo alvarado entre benjamin franklin...  urbana          punzara   \n",
              "2                       isidro ayora barrio plateado  urbana            sucre   \n",
              "3                  8 de diciembre y belisario moreno  urbana          carigan   \n",
              "4       integracion barrial - angel felicisimo rojas  urbana          punzara   \n",
              "\n",
              "                             causas  nro_heridos  nro_fallecidos  \n",
              "0  conducir en estado de embriaguez            0               0  \n",
              "1         imprudencia del conductor            0               0  \n",
              "2         imprudencia del conductor            2               0  \n",
              "3         imprudencia del conductor            0               0  \n",
              "4  conducir en estado de embriaguez            0               0  "
            ],
            "text/html": [
              "\n",
              "  <div id=\"df-bf030ee9-a9e0-4ff4-9cbe-f657dd04b641\">\n",
              "    <div class=\"colab-df-container\">\n",
              "      <div>\n",
              "<style scoped>\n",
              "    .dataframe tbody tr th:only-of-type {\n",
              "        vertical-align: middle;\n",
              "    }\n",
              "\n",
              "    .dataframe tbody tr th {\n",
              "        vertical-align: top;\n",
              "    }\n",
              "\n",
              "    .dataframe thead th {\n",
              "        text-align: right;\n",
              "    }\n",
              "</style>\n",
              "<table border=\"1\" class=\"dataframe\">\n",
              "  <thead>\n",
              "    <tr style=\"text-align: right;\">\n",
              "      <th></th>\n",
              "      <th>fecha</th>\n",
              "      <th>dia</th>\n",
              "      <th>hora</th>\n",
              "      <th>latitud</th>\n",
              "      <th>longitud</th>\n",
              "      <th>tipologia</th>\n",
              "      <th>direccion</th>\n",
              "      <th>zona</th>\n",
              "      <th>parroquia_urbana</th>\n",
              "      <th>causas</th>\n",
              "      <th>nro_heridos</th>\n",
              "      <th>nro_fallecidos</th>\n",
              "    </tr>\n",
              "  </thead>\n",
              "  <tbody>\n",
              "    <tr>\n",
              "      <th>0</th>\n",
              "      <td>01-01</td>\n",
              "      <td>martes</td>\n",
              "      <td>h04</td>\n",
              "      <td>-4.002271</td>\n",
              "      <td>-79.212242</td>\n",
              "      <td>estrellamiento</td>\n",
              "      <td>de los paltas y caran shiri</td>\n",
              "      <td>urbana</td>\n",
              "      <td>sucre</td>\n",
              "      <td>conducir en estado de embriaguez</td>\n",
              "      <td>0</td>\n",
              "      <td>0</td>\n",
              "    </tr>\n",
              "    <tr>\n",
              "      <th>1</th>\n",
              "      <td>01-01</td>\n",
              "      <td>martes</td>\n",
              "      <td>h06</td>\n",
              "      <td>-4.024814</td>\n",
              "      <td>-79.203255</td>\n",
              "      <td>estrellamiento</td>\n",
              "      <td>pio jaramillo alvarado entre benjamin franklin...</td>\n",
              "      <td>urbana</td>\n",
              "      <td>punzara</td>\n",
              "      <td>imprudencia del conductor</td>\n",
              "      <td>0</td>\n",
              "      <td>0</td>\n",
              "    </tr>\n",
              "    <tr>\n",
              "      <th>2</th>\n",
              "      <td>01-01</td>\n",
              "      <td>martes</td>\n",
              "      <td>h06</td>\n",
              "      <td>-3.975969</td>\n",
              "      <td>-79.227888</td>\n",
              "      <td>roce positivo</td>\n",
              "      <td>isidro ayora barrio plateado</td>\n",
              "      <td>urbana</td>\n",
              "      <td>sucre</td>\n",
              "      <td>imprudencia del conductor</td>\n",
              "      <td>2</td>\n",
              "      <td>0</td>\n",
              "    </tr>\n",
              "    <tr>\n",
              "      <th>3</th>\n",
              "      <td>01-01</td>\n",
              "      <td>martes</td>\n",
              "      <td>h02</td>\n",
              "      <td>-3.960426</td>\n",
              "      <td>-79.216096</td>\n",
              "      <td>choque lateral angular</td>\n",
              "      <td>8 de diciembre y belisario moreno</td>\n",
              "      <td>urbana</td>\n",
              "      <td>carigan</td>\n",
              "      <td>imprudencia del conductor</td>\n",
              "      <td>0</td>\n",
              "      <td>0</td>\n",
              "    </tr>\n",
              "    <tr>\n",
              "      <th>4</th>\n",
              "      <td>01-01</td>\n",
              "      <td>martes</td>\n",
              "      <td>h03</td>\n",
              "      <td>-4.000044</td>\n",
              "      <td>-79.234883</td>\n",
              "      <td>estrellamiento</td>\n",
              "      <td>integracion barrial - angel felicisimo rojas</td>\n",
              "      <td>urbana</td>\n",
              "      <td>punzara</td>\n",
              "      <td>conducir en estado de embriaguez</td>\n",
              "      <td>0</td>\n",
              "      <td>0</td>\n",
              "    </tr>\n",
              "  </tbody>\n",
              "</table>\n",
              "</div>\n",
              "      <button class=\"colab-df-convert\" onclick=\"convertToInteractive('df-bf030ee9-a9e0-4ff4-9cbe-f657dd04b641')\"\n",
              "              title=\"Convert this dataframe to an interactive table.\"\n",
              "              style=\"display:none;\">\n",
              "        \n",
              "  <svg xmlns=\"http://www.w3.org/2000/svg\" height=\"24px\"viewBox=\"0 0 24 24\"\n",
              "       width=\"24px\">\n",
              "    <path d=\"M0 0h24v24H0V0z\" fill=\"none\"/>\n",
              "    <path d=\"M18.56 5.44l.94 2.06.94-2.06 2.06-.94-2.06-.94-.94-2.06-.94 2.06-2.06.94zm-11 1L8.5 8.5l.94-2.06 2.06-.94-2.06-.94L8.5 2.5l-.94 2.06-2.06.94zm10 10l.94 2.06.94-2.06 2.06-.94-2.06-.94-.94-2.06-.94 2.06-2.06.94z\"/><path d=\"M17.41 7.96l-1.37-1.37c-.4-.4-.92-.59-1.43-.59-.52 0-1.04.2-1.43.59L10.3 9.45l-7.72 7.72c-.78.78-.78 2.05 0 2.83L4 21.41c.39.39.9.59 1.41.59.51 0 1.02-.2 1.41-.59l7.78-7.78 2.81-2.81c.8-.78.8-2.07 0-2.86zM5.41 20L4 18.59l7.72-7.72 1.47 1.35L5.41 20z\"/>\n",
              "  </svg>\n",
              "      </button>\n",
              "      \n",
              "  <style>\n",
              "    .colab-df-container {\n",
              "      display:flex;\n",
              "      flex-wrap:wrap;\n",
              "      gap: 12px;\n",
              "    }\n",
              "\n",
              "    .colab-df-convert {\n",
              "      background-color: #E8F0FE;\n",
              "      border: none;\n",
              "      border-radius: 50%;\n",
              "      cursor: pointer;\n",
              "      display: none;\n",
              "      fill: #1967D2;\n",
              "      height: 32px;\n",
              "      padding: 0 0 0 0;\n",
              "      width: 32px;\n",
              "    }\n",
              "\n",
              "    .colab-df-convert:hover {\n",
              "      background-color: #E2EBFA;\n",
              "      box-shadow: 0px 1px 2px rgba(60, 64, 67, 0.3), 0px 1px 3px 1px rgba(60, 64, 67, 0.15);\n",
              "      fill: #174EA6;\n",
              "    }\n",
              "\n",
              "    [theme=dark] .colab-df-convert {\n",
              "      background-color: #3B4455;\n",
              "      fill: #D2E3FC;\n",
              "    }\n",
              "\n",
              "    [theme=dark] .colab-df-convert:hover {\n",
              "      background-color: #434B5C;\n",
              "      box-shadow: 0px 1px 3px 1px rgba(0, 0, 0, 0.15);\n",
              "      filter: drop-shadow(0px 1px 2px rgba(0, 0, 0, 0.3));\n",
              "      fill: #FFFFFF;\n",
              "    }\n",
              "  </style>\n",
              "\n",
              "      <script>\n",
              "        const buttonEl =\n",
              "          document.querySelector('#df-bf030ee9-a9e0-4ff4-9cbe-f657dd04b641 button.colab-df-convert');\n",
              "        buttonEl.style.display =\n",
              "          google.colab.kernel.accessAllowed ? 'block' : 'none';\n",
              "\n",
              "        async function convertToInteractive(key) {\n",
              "          const element = document.querySelector('#df-bf030ee9-a9e0-4ff4-9cbe-f657dd04b641');\n",
              "          const dataTable =\n",
              "            await google.colab.kernel.invokeFunction('convertToInteractive',\n",
              "                                                     [key], {});\n",
              "          if (!dataTable) return;\n",
              "\n",
              "          const docLinkHtml = 'Like what you see? Visit the ' +\n",
              "            '<a target=\"_blank\" href=https://colab.research.google.com/notebooks/data_table.ipynb>data table notebook</a>'\n",
              "            + ' to learn more about interactive tables.';\n",
              "          element.innerHTML = '';\n",
              "          dataTable['output_type'] = 'display_data';\n",
              "          await google.colab.output.renderOutput(dataTable, element);\n",
              "          const docLink = document.createElement('div');\n",
              "          docLink.innerHTML = docLinkHtml;\n",
              "          element.appendChild(docLink);\n",
              "        }\n",
              "      </script>\n",
              "    </div>\n",
              "  </div>\n",
              "  "
            ]
          },
          "metadata": {},
          "execution_count": 106
        }
      ]
    },
    {
      "cell_type": "code",
      "source": [
        "fig = px.density_mapbox(df,lat='latitud', lon='longitud',radius=3,center=dict(lat=-3.99313,lon=-79.20422),zoom=10.5,mapbox_style=\"open-street-map\")\n",
        "\n",
        "fig.show()"
      ],
      "metadata": {
        "colab": {
          "base_uri": "https://localhost:8080/",
          "height": 542
        },
        "id": "6mhVGssPgdGw",
        "outputId": "f5ebf839-c20d-40af-e59f-8ef23084f887"
      },
      "execution_count": 107,
      "outputs": [
        {
          "output_type": "display_data",
          "data": {
            "text/html": [
              "<html>\n",
              "<head><meta charset=\"utf-8\" /></head>\n",
              "<body>\n",
              "    <div>            <script src=\"https://cdnjs.cloudflare.com/ajax/libs/mathjax/2.7.5/MathJax.js?config=TeX-AMS-MML_SVG\"></script><script type=\"text/javascript\">if (window.MathJax) {MathJax.Hub.Config({SVG: {font: \"STIX-Web\"}});}</script>                <script type=\"text/javascript\">window.PlotlyConfig = {MathJaxConfig: 'local'};</script>\n",
              "        <script src=\"https://cdn.plot.ly/plotly-2.8.3.min.js\"></script>                <div id=\"6b77fbc2-a1e9-4aa3-950f-65a2f5922db8\" class=\"plotly-graph-div\" style=\"height:525px; width:100%;\"></div>            <script type=\"text/javascript\">                                    window.PLOTLYENV=window.PLOTLYENV || {};                                    if (document.getElementById(\"6b77fbc2-a1e9-4aa3-950f-65a2f5922db8\")) {                    Plotly.newPlot(                        \"6b77fbc2-a1e9-4aa3-950f-65a2f5922db8\",                        [{\"coloraxis\":\"coloraxis\",\"hovertemplate\":\"latitud=%{lat}<br>longitud=%{lon}<extra></extra>\",\"lat\":[-4.0022708,-4.0248139,-3.97596884,-3.9604263,-4.0000443,-3.998836,-3.95855,-3.9981812,-4.0005379,-3.996323,-3.980827,-3.9697247,-3.9975339,-4.001891,-3.9871157,-4.027231,-3.946139,-4.0097442,-4.009572,-3.9702319,-3.9851352,-4.007,-4.0328693,-4.01327,-4.0113549,-3.9921507,-4.0014756,-3.9928786,-3.999212,-3.9973738,-4.0189428,-3.9951088,-4.024072,-3.965459,-3.9924254,-3.9757116,-3.9702319,-4.0036051,-4.0100069,-3.9785974,-3.9570459,-3.9992854,-3.5646,-4.0125513,-4.0019227,-4.01779,-3.9986758,-4.18797,-3.972139,-3.9853162,-3.9685,-3.9946564,-3.9941179,-3.9882224,-3.9914887,-3.9902927,-3.9961642,-3.960475,-3.9480585,-3.9927416,-3.9836098,-4.0059828,-3.953388,-3.5818,-3.9952083,-4.0175305,-4.0074532,-3.9875468,-4.0022569,-3.9850532,-3.9831273,-4.018919,-4.0124151,-4.005622,-3.9854529,-4.0035425,-3.979036,-3.9816864,-4.0187304,-3.9851732,-3.951451,-3.9974682,-3.9999439,-3.955099,-4.0519943,-4.0042541,-3.9907302,-3.960319,-4.0322555,-3.973637,-4.0014316,-3.9414285,-3.999385,-3.9995126,-4.0001137,-3.9710172,-3.990747,-4.0377357,-3.9775715,-3.9992351,-4.0125771,-3.9861849,-3.9967253,-3.9768287,-4.0107122,-3.9729737,-3.9975339,-3.9810775,-4.0114633,-4.009239,-3.963622,-4.003738,-4.0034135,-4.002551,-3.9973738,-3.976651,-4.011249,-3.9927,-4.003917,-4.0553211,-4.0036145,-4.0094948,-4.0022194,-4.005741,-3.998932,-3.984257,-3.949966,-3.969087,-3.97148,-3.9812555,-4.007852,-4.0034466,-3.9986055,-4.0330251,-3.986797,-4.006279,-4.0004867,-3.9537644,-3.9920443,-3.9850221,-4.016956,-4.0074563,-4.0023108,-3.9974512,-3.9732506,-3.9903954,-4.0230444,-3.5925,-4.012075,-3.9904254,-3.9987716,-3.9923905,-3.9992525,-3.998108,-4.0023108,-4.0522399,-4.0224421,-3.986368,-3.9923313,-4.022133,-4.0032671,-3.9921859,-4.00849,-3.966006,-3.9816864,-3.966006,-4.0026101,-3.9902827,-3.9950015,-3.9993016,-3.9839928,-3.9914389,-3.9902061,-4.0124446,-3.9935253,-39778259.0,-3.9983993,-3.9703212,-4.004456,-3.9970838,-3.9920582,-3.9525563,-3.9778769,-4.0152206,-3.9985709,-4.0087528,-3.9850386,-4.0127086,-4.0119495,-3.9511883,-3.9893652,-3.989868,-4.0166546,-3.9447598,-3.9817644,-3.9684133,-4.0017832,-3.945766,-3.9790838,-3.9990313,-3.9385011,-4.0002213,-4.0078844,-3.9781514,-4.0036966,-3.9798133,-4.0004867,-3.9813012,-3.971801,-3.9753788,-3.9813012,-4.0140636,-3.9952598,-4.0094545,-4.0226999,-3.9851245,-3.9720844,-4.0037932,-4.0134067,-3.842856,-3.9803655,-3.998305,-4.0074127,-4.0046594,-3.976706,-3.9601949,-4.017083,-3.994012,-3.9782052,-4.0207578,-3.9950994,-3.996886,-3.997859,-3.9765328,-4.00776,-3.994091,-3.993317,-3.968216,-3.9744022,-3.998952,-3.981544,-3.9931366,-3.9790541,-4.0100155,-4.0037661,-3.9956717,-3.9988555,-4.009991,-4.00027,-3.988865,-3.9692127,-3.9714533,-3.9841747,-4.0022069,-4.0136812,-4.0023594,-3.9741168,-4.0127857,-3.9782682,-3.9897877,-3.9922635,-4.0014756,-3.9945259,-3.9455829,-3.9940379,-3.9616933,-4.0078785,-4.0015703,-4.009583,-3.976115,-4.000275,-3.99233,-4.0363869,-3.9702855,-3.998108,-3.9811525,-3.97984,-4.0249892,-4.013994,-4.0116239,-3.9914582,-3.9907497,-3.9827109,-3.9730564,-4.0329134,-3.9699888,-3.9767762,-4.0063387,-4.0182985,-4.0132928,-4.0014913,-3.9854184,-3.993263,-3.967571,-3.9712374,-4.0043391,-4.0002873,-3.9781999,-3.9809596,-3.9487287,-3.9728271,-4.0092008,-4.0067164,-3.996294,-3.989397,-4.0071166,-4.0283625,-4.0002873,-3.9925768,-3.9922439,-3.9996085,-3.9764656,-3.995327,-4.0074683,-3.9798757,-3.9730906,-3.9684293,-3.9782323,-4.0122708,-4.0126894,-4.0114636,-3.9972995,-3.9945526,-3.9957481,-3.996436,-4.0014632,-3.9989417,-4.00111179,-3.9905815,-3.992085,-3.9655,-4.009448,-3.971702,-4.0188746,-3.589,-3.9963568,-3.979491,-4.0039969,-3.9576324,-3.9786597,-3.988749,-3.9921162,-4.0016434,-3.9997503,-4.0076341,-4.0231705,-4.0034537,-4.0025413,-3.9928744,-4.0132902,-4.021817,-4.0032537,-4.009959,-3.9805439,-4.0165579,-4.003729,-4.0105572,-3.9925484,-3.9786597,-3.9829243,-3.9843346,-4.0014913,-4.0013782,-3.991626,-3.9798581,-3.998104,-4.0035524,-4.003372,-3.989386,-3.9720843,-3.9720843,-3.9627675,-3.995097,-3.9817928,-3.977349,-3.9808714,-3.990461,-4.0002526,-4.019247,-4.0046785,-4.0122708,-4.9984314,-3.9814362,-4.0078765,-3.998459,-3.9852974,-3.9982735,-3.9802672,-3.9880647,-4.001592,-3.9953834,-4.0050416,-4.0550653,-3.9844599,-3.9920841,-4.001468,-4.0455315,-4.0258875,-3.9776775,-4.0046937,-4.0098643,-3.9596631,-3.9794092,-3.984391,-4.0263177,-4.0098125,-4.0147886,-3.9871257,-3.9992504,-3.979637,-3.99812471,-3.9765068,-4.013128,-3.970399,-3.9758556,-3.9698658,-4.0097307,-3.9980143,-4.0028825,-4.0141118,-3.9941262,-3.919663,-4.026837,-3.9875595,-3.977028,-3.9622199,-3.9864209,-4.0102037,-4.0296989,-3.9824787,-3.9783742,-3.9956576,-4.0001164,-3.9894015,-4.0015245,-3.9804632,-3.9830019,-3.9793225,-4.0059573,-3.997053,-3.9773185,-3.9729858,-4.036152,-3.9770205,-4.025559,-3.977331,-3.97854,-3.9922596,-4.004192,-3.9966718,-3.9942802,-3.9790397,-4.0282312,-4.0228672,-4.0025373,-3.98141,-3.9969599,-3.9829856,-3.980719,-3989022.0,-3.986909,-3.006988,-3.9964755,-3.9603996,-3.9887226,-3.9384964,-4.003576,-3.999493,-4.0768988,-3.9926761,-4.0015997,-3.9830018,-4.0007921,-3.9981528,-4.004239,-4.000213,-3.9991402,-3.998243,-3.601587,-4.0004241,-4.0000059,-3.95949,-4.0157093,-3.9780856,-3.9680786,-4.011026,-3.9982361,-3.980427,-3.9441413,-3.9960667,-4.001148,-3.99621,-3.9782133,-3.9941634,-4.031098,-4.046871,-4.0340554,-3.970334,-4.0036209,-4.0040877,-3.9914276,-4.0095702,-4.0088371,-4.0036817,-3.995147,-3.9875987],\"lon\":[-79.2122419,-79.2032554,-79.2278882,-79.216096,-79.234883,-79.196846,-79.2174501,-79.2020039,-79.2062593,-79.203167,-79.222047,-79.2078765,-79.2051789,-79.195434,-79.2055477,-79.20310033,-79.2222592,-79.1998064,-79.2036173,-79.2097899,-79.2058773,-79.115,-79.2014299,-79.206019,-79.1974317,-79.20109653,-79.2044808,-79.2007785,-79.21178,-79.2049664,-79.2104363,-79.1981759,-79.206003,-79.2126287,-79.2034525,-79.2045664,-79.2097899,-79.2035186,-79.2005718,-79.2263903,-79.2197678,-79.2329855,-79.132,-79.2198826,-79.1954773,-79.23038,-79.2219128,-79.229147,-79.2214089,-79.1932197,-79.20969,-79.1993132,-79.2014482,-79.1981643,-79.2024591,-79.2098282,-79.2002097,-79.21605,-79.2190656,-79.2539703,-79.2204782,-79.2033252,-79.2208217,-79.1158,-79.2115172,-79.2236254,-79.2023965,-79.2100852,-79.1976077,-79.2033681,-79.2033305,-79.213087,-79.2147265,-79.202579,-79.2044369,-79.1996296,-79.236329,-79.200644,-79.2124358,-79.1929231,-79.252993,-79.2066285,-79.2129592,-79.2433431,-79.1958083,-79.2003222,-79.2097209,-79.213631,-79.2064226,-79.2015658,-79.2036795,-79.2252661,-79.2022178,-79.2203212,-79.2057407,-79.1976126,-79.160522,-79.2065836,-79.2076938,-79.1972953,-79.198781,-79.2033882,-79.195413,-79.2292173,-79.2045782,-79.2208608,-79.2051789,-79.2038629,-79.201181,-79.217543,-79.237371,-79.207305,-79.2093004,-79.204633,-79.2049664,-79.237682,-79.2010937,-79.209987,-79.208584,-79.195907,-79.1996777,-79.2029352,-79.1987268,-79.202992,-79.197331,-79.164103,-79.216101,-79.204438,-79.2067098,-79.2029569,-79.202353,-79.1977521,-79.219293,-79.1988707,-79.2028511,-79.2038338,-79.204832,-79.2155384,-79.2106819,-79.2024818,-79.198253,-79.2037036,-79.1997765,-79.2059952,-79.2016038,-79.1977074,-79.2032573,-79.1113,-79.204585,-79.2108445,-79.2223403,-79.2023912,-79.202964,-79.200055,-79.1997765,-79.1957787,-79.2045234,-79.2010884,-79.20239,-79.2033246,-79.2297985,-79.20027,-79.2169,-79.238847,-79.200644,-79.1898192,-79.2065847,-79.2099453,-79.1992524,-79.2029647,-79.2370952,-79.2019783,-79.2098173,-79.2146426,-79.2053931,-79.2269918,-79.2048517,-79.2217182,-79.2067521,-79.21379,-79.199585,-79.2157683,-79.2078413,-79.208612,-79.2194578,-79.2156289,-79.2021372,-79.2034117,-79.2146235,-79.21594,-79.2032776,-79.210031,-79.2337384,-79.2220308,-79.2045316,-79.2097149,-79.2036607,-79.2224182,-79.209656,-79.2010631,-79.2232205,-79.2018178,-79.2077507,-79.2026028,-79.2014632,-79.2172025,-79.204832,-79.2335986,-79.234266,-79.2045879,-79.2335986,-79.1982559,-79.2021768,-79.2023235,-79.2032827,-79.2044395,-79.2018266,-79.20588,-79.2048737,-79.344939,-79.2044486,-79.204224,-79.2032078,-79.2042264,-79.204825,-79.2112097,-79.200898,-79.198466,-79.2239083,-79.1977412,-79.2002923,-79.2050239,-79.2079885,-79.2023773,-79.1995954,-79.2014,-79.198458,-79.2100247,-79.2015108,-79.197941,-79.23351,-79.2015143,-79.2016707,-79.2072813,-79.2035067,-79.2130596,-79.1967366,-79.212811,-79.199948,-79.209223,-79.207283,-79.2146816,-79.2090252,-79.1997868,-79.2032749,-79.1987091,-79.20014133,-79.2176899,-79.2044652,-79.1968022,-79.2075262,-79.2044808,-79.1992609,-79.2244319,-79.210185,-79.2383762,-79.20747983,-79.2055495,-79.2030378,-79.201258,-79.2062914,-79.2023831,-79.2057992,-79.2078236,-79.1950426,-79.2029541,-79.224402,-79.2031184,-79.215122,-79.2190383,-79.2053148,-79.2451822,-79.2044958,-79.2206814,-79.2025618,-79.2254442,-79.20460173,-79.2140158,-79.2038259,-79.2104333,-79.2046946,-79.1966895,-79.2043507,-79.238853,-79.2068602,-79.2007091,-79.2018938,-79.2237502,-79.2002202,-79.2222668,-79.2177813,-79.2048461,-79.2054086,-79.208159,-79.203629,-79.2142698,-79.2047098,-79.2018938,-79.2100538,-79.2013134,-79.2063716,-79.204476,-79.201997,-79.2032145,-79.217677,-79.2079108,-79.2097098,-79.2240073,-79.2045298,-79.2033493,-79.2011824,-79.203105,-79.2054665,-79.2096503,-79.235709,-79.197108,-79.2230027,-79.1998789,-79.2054209,-79.2011229,-79.208011,-79.201289,-79.209717,-79.2131306,-79.1226,-79.2034691,-79.204296,-79.2041704,-79.2129695,-79.2044222,-79.2045088,-79.1840569,-79.2076196,-79.2063477,-79.2073291,-79.2002978,-79.2298082,-79.2043561,-79.204385,-79.2415786,-79.200662,-79.2074545,-79.210584,-79.2029403,-79.2053148,-79.202609,-79.2072686,-79.206676,-79.2044222,-79.2039103,-79.1977657,-79.2046946,-79.1998573,-79.2036269,-79.2113786,-79.200093,-79.1933648,-79.1986344,-79.203665,-79.2058943,-79.2058943,-79.32144938,-79.195808,-79.215575,-79.205,-79.2068494,-79.2051397,-79.2009587,-79.2288458,-79.2043306,-79.2045298,-79.2050775,-79.2044642,-79.2086607,-79.2116778,-79.1968217,-79.2035026,-79.2043718,-79.2101876,-79.205592,-79.204592,-79.2061604,-79.1959132,-79.2059219,-79.2099975,-79.2044725,-79.1969287,-79.2030397,-79.2359562,-79.2034396,-79.2016305,-79.2165139,-79.2143823,-79.194081,-79.2131357,-79.1999772,-79.20761,-79.2054788,-79.2044751,-79.232238,-79.233594,-79.2019701,-79.203273,-79.2074727,-79.2081627,-79.2079436,-79.2046875,-79.2366593,-79.1967355,-79.2009757,-79.2101989,-79.258167,-79.203097,-79.235942,-79.204905,-79.2148281,-79.1906269,-79.2046988,-79.2071083,-79.2053947,-79.2267433,-79.206828819,-79.2335872,-79.2053331,-79.2055762,-79.2003199,-79.2034178,-79.2126647,-79.2041504,-79.199099,-79.2356253,-79.2183535,-79.203339,-79.2045282,-79.210896,-79.204696,-79.207722,-79.2010708,-79.214711,-79.2052574,-79.2033116,-79.2023165,-79.2086077,-79.2003706,-79.2074781,-79.2015199,-79.2001607,-79.2009556,-79.224103,-79.203937,-79.214856,-79.205436,-79.2052803,-79.2163935,-79.2102521,-79.2258358,-79.212568,-79.205436,-79.1963763,-79.2106113,-79.20614,-79.202403,-79.1971627,-79.2000963,-79.199695,-79.2321693,-79.2000169,-79.204868,-79.2162331,-79.2048702,-79.1988756,-79.234673,-79.2039928,-79.2224271,-79.2101896,-79.205885,-79.2030125,-79.212398,-79.2221469,-79.213364917,-79.199887,-79.200227,-79.2239124,-79.1974405,-79.2150152,-79.1969381,-79.1987228,-79.209657,-79.1996818,-79.1902601,-79.2012288,-79.2036506,-79.196709,-79.2141145,-79.200312,-79.2100894],\"name\":\"\",\"radius\":3,\"subplot\":\"mapbox\",\"type\":\"densitymapbox\"}],                        {\"template\":{\"data\":{\"bar\":[{\"error_x\":{\"color\":\"#2a3f5f\"},\"error_y\":{\"color\":\"#2a3f5f\"},\"marker\":{\"line\":{\"color\":\"#E5ECF6\",\"width\":0.5},\"pattern\":{\"fillmode\":\"overlay\",\"size\":10,\"solidity\":0.2}},\"type\":\"bar\"}],\"barpolar\":[{\"marker\":{\"line\":{\"color\":\"#E5ECF6\",\"width\":0.5},\"pattern\":{\"fillmode\":\"overlay\",\"size\":10,\"solidity\":0.2}},\"type\":\"barpolar\"}],\"carpet\":[{\"aaxis\":{\"endlinecolor\":\"#2a3f5f\",\"gridcolor\":\"white\",\"linecolor\":\"white\",\"minorgridcolor\":\"white\",\"startlinecolor\":\"#2a3f5f\"},\"baxis\":{\"endlinecolor\":\"#2a3f5f\",\"gridcolor\":\"white\",\"linecolor\":\"white\",\"minorgridcolor\":\"white\",\"startlinecolor\":\"#2a3f5f\"},\"type\":\"carpet\"}],\"choropleth\":[{\"colorbar\":{\"outlinewidth\":0,\"ticks\":\"\"},\"type\":\"choropleth\"}],\"contour\":[{\"colorbar\":{\"outlinewidth\":0,\"ticks\":\"\"},\"colorscale\":[[0.0,\"#0d0887\"],[0.1111111111111111,\"#46039f\"],[0.2222222222222222,\"#7201a8\"],[0.3333333333333333,\"#9c179e\"],[0.4444444444444444,\"#bd3786\"],[0.5555555555555556,\"#d8576b\"],[0.6666666666666666,\"#ed7953\"],[0.7777777777777778,\"#fb9f3a\"],[0.8888888888888888,\"#fdca26\"],[1.0,\"#f0f921\"]],\"type\":\"contour\"}],\"contourcarpet\":[{\"colorbar\":{\"outlinewidth\":0,\"ticks\":\"\"},\"type\":\"contourcarpet\"}],\"heatmap\":[{\"colorbar\":{\"outlinewidth\":0,\"ticks\":\"\"},\"colorscale\":[[0.0,\"#0d0887\"],[0.1111111111111111,\"#46039f\"],[0.2222222222222222,\"#7201a8\"],[0.3333333333333333,\"#9c179e\"],[0.4444444444444444,\"#bd3786\"],[0.5555555555555556,\"#d8576b\"],[0.6666666666666666,\"#ed7953\"],[0.7777777777777778,\"#fb9f3a\"],[0.8888888888888888,\"#fdca26\"],[1.0,\"#f0f921\"]],\"type\":\"heatmap\"}],\"heatmapgl\":[{\"colorbar\":{\"outlinewidth\":0,\"ticks\":\"\"},\"colorscale\":[[0.0,\"#0d0887\"],[0.1111111111111111,\"#46039f\"],[0.2222222222222222,\"#7201a8\"],[0.3333333333333333,\"#9c179e\"],[0.4444444444444444,\"#bd3786\"],[0.5555555555555556,\"#d8576b\"],[0.6666666666666666,\"#ed7953\"],[0.7777777777777778,\"#fb9f3a\"],[0.8888888888888888,\"#fdca26\"],[1.0,\"#f0f921\"]],\"type\":\"heatmapgl\"}],\"histogram\":[{\"marker\":{\"pattern\":{\"fillmode\":\"overlay\",\"size\":10,\"solidity\":0.2}},\"type\":\"histogram\"}],\"histogram2d\":[{\"colorbar\":{\"outlinewidth\":0,\"ticks\":\"\"},\"colorscale\":[[0.0,\"#0d0887\"],[0.1111111111111111,\"#46039f\"],[0.2222222222222222,\"#7201a8\"],[0.3333333333333333,\"#9c179e\"],[0.4444444444444444,\"#bd3786\"],[0.5555555555555556,\"#d8576b\"],[0.6666666666666666,\"#ed7953\"],[0.7777777777777778,\"#fb9f3a\"],[0.8888888888888888,\"#fdca26\"],[1.0,\"#f0f921\"]],\"type\":\"histogram2d\"}],\"histogram2dcontour\":[{\"colorbar\":{\"outlinewidth\":0,\"ticks\":\"\"},\"colorscale\":[[0.0,\"#0d0887\"],[0.1111111111111111,\"#46039f\"],[0.2222222222222222,\"#7201a8\"],[0.3333333333333333,\"#9c179e\"],[0.4444444444444444,\"#bd3786\"],[0.5555555555555556,\"#d8576b\"],[0.6666666666666666,\"#ed7953\"],[0.7777777777777778,\"#fb9f3a\"],[0.8888888888888888,\"#fdca26\"],[1.0,\"#f0f921\"]],\"type\":\"histogram2dcontour\"}],\"mesh3d\":[{\"colorbar\":{\"outlinewidth\":0,\"ticks\":\"\"},\"type\":\"mesh3d\"}],\"parcoords\":[{\"line\":{\"colorbar\":{\"outlinewidth\":0,\"ticks\":\"\"}},\"type\":\"parcoords\"}],\"pie\":[{\"automargin\":true,\"type\":\"pie\"}],\"scatter\":[{\"marker\":{\"colorbar\":{\"outlinewidth\":0,\"ticks\":\"\"}},\"type\":\"scatter\"}],\"scatter3d\":[{\"line\":{\"colorbar\":{\"outlinewidth\":0,\"ticks\":\"\"}},\"marker\":{\"colorbar\":{\"outlinewidth\":0,\"ticks\":\"\"}},\"type\":\"scatter3d\"}],\"scattercarpet\":[{\"marker\":{\"colorbar\":{\"outlinewidth\":0,\"ticks\":\"\"}},\"type\":\"scattercarpet\"}],\"scattergeo\":[{\"marker\":{\"colorbar\":{\"outlinewidth\":0,\"ticks\":\"\"}},\"type\":\"scattergeo\"}],\"scattergl\":[{\"marker\":{\"colorbar\":{\"outlinewidth\":0,\"ticks\":\"\"}},\"type\":\"scattergl\"}],\"scattermapbox\":[{\"marker\":{\"colorbar\":{\"outlinewidth\":0,\"ticks\":\"\"}},\"type\":\"scattermapbox\"}],\"scatterpolar\":[{\"marker\":{\"colorbar\":{\"outlinewidth\":0,\"ticks\":\"\"}},\"type\":\"scatterpolar\"}],\"scatterpolargl\":[{\"marker\":{\"colorbar\":{\"outlinewidth\":0,\"ticks\":\"\"}},\"type\":\"scatterpolargl\"}],\"scatterternary\":[{\"marker\":{\"colorbar\":{\"outlinewidth\":0,\"ticks\":\"\"}},\"type\":\"scatterternary\"}],\"surface\":[{\"colorbar\":{\"outlinewidth\":0,\"ticks\":\"\"},\"colorscale\":[[0.0,\"#0d0887\"],[0.1111111111111111,\"#46039f\"],[0.2222222222222222,\"#7201a8\"],[0.3333333333333333,\"#9c179e\"],[0.4444444444444444,\"#bd3786\"],[0.5555555555555556,\"#d8576b\"],[0.6666666666666666,\"#ed7953\"],[0.7777777777777778,\"#fb9f3a\"],[0.8888888888888888,\"#fdca26\"],[1.0,\"#f0f921\"]],\"type\":\"surface\"}],\"table\":[{\"cells\":{\"fill\":{\"color\":\"#EBF0F8\"},\"line\":{\"color\":\"white\"}},\"header\":{\"fill\":{\"color\":\"#C8D4E3\"},\"line\":{\"color\":\"white\"}},\"type\":\"table\"}]},\"layout\":{\"annotationdefaults\":{\"arrowcolor\":\"#2a3f5f\",\"arrowhead\":0,\"arrowwidth\":1},\"autotypenumbers\":\"strict\",\"coloraxis\":{\"colorbar\":{\"outlinewidth\":0,\"ticks\":\"\"}},\"colorscale\":{\"diverging\":[[0,\"#8e0152\"],[0.1,\"#c51b7d\"],[0.2,\"#de77ae\"],[0.3,\"#f1b6da\"],[0.4,\"#fde0ef\"],[0.5,\"#f7f7f7\"],[0.6,\"#e6f5d0\"],[0.7,\"#b8e186\"],[0.8,\"#7fbc41\"],[0.9,\"#4d9221\"],[1,\"#276419\"]],\"sequential\":[[0.0,\"#0d0887\"],[0.1111111111111111,\"#46039f\"],[0.2222222222222222,\"#7201a8\"],[0.3333333333333333,\"#9c179e\"],[0.4444444444444444,\"#bd3786\"],[0.5555555555555556,\"#d8576b\"],[0.6666666666666666,\"#ed7953\"],[0.7777777777777778,\"#fb9f3a\"],[0.8888888888888888,\"#fdca26\"],[1.0,\"#f0f921\"]],\"sequentialminus\":[[0.0,\"#0d0887\"],[0.1111111111111111,\"#46039f\"],[0.2222222222222222,\"#7201a8\"],[0.3333333333333333,\"#9c179e\"],[0.4444444444444444,\"#bd3786\"],[0.5555555555555556,\"#d8576b\"],[0.6666666666666666,\"#ed7953\"],[0.7777777777777778,\"#fb9f3a\"],[0.8888888888888888,\"#fdca26\"],[1.0,\"#f0f921\"]]},\"colorway\":[\"#636efa\",\"#EF553B\",\"#00cc96\",\"#ab63fa\",\"#FFA15A\",\"#19d3f3\",\"#FF6692\",\"#B6E880\",\"#FF97FF\",\"#FECB52\"],\"font\":{\"color\":\"#2a3f5f\"},\"geo\":{\"bgcolor\":\"white\",\"lakecolor\":\"white\",\"landcolor\":\"#E5ECF6\",\"showlakes\":true,\"showland\":true,\"subunitcolor\":\"white\"},\"hoverlabel\":{\"align\":\"left\"},\"hovermode\":\"closest\",\"mapbox\":{\"style\":\"light\"},\"paper_bgcolor\":\"white\",\"plot_bgcolor\":\"#E5ECF6\",\"polar\":{\"angularaxis\":{\"gridcolor\":\"white\",\"linecolor\":\"white\",\"ticks\":\"\"},\"bgcolor\":\"#E5ECF6\",\"radialaxis\":{\"gridcolor\":\"white\",\"linecolor\":\"white\",\"ticks\":\"\"}},\"scene\":{\"xaxis\":{\"backgroundcolor\":\"#E5ECF6\",\"gridcolor\":\"white\",\"gridwidth\":2,\"linecolor\":\"white\",\"showbackground\":true,\"ticks\":\"\",\"zerolinecolor\":\"white\"},\"yaxis\":{\"backgroundcolor\":\"#E5ECF6\",\"gridcolor\":\"white\",\"gridwidth\":2,\"linecolor\":\"white\",\"showbackground\":true,\"ticks\":\"\",\"zerolinecolor\":\"white\"},\"zaxis\":{\"backgroundcolor\":\"#E5ECF6\",\"gridcolor\":\"white\",\"gridwidth\":2,\"linecolor\":\"white\",\"showbackground\":true,\"ticks\":\"\",\"zerolinecolor\":\"white\"}},\"shapedefaults\":{\"line\":{\"color\":\"#2a3f5f\"}},\"ternary\":{\"aaxis\":{\"gridcolor\":\"white\",\"linecolor\":\"white\",\"ticks\":\"\"},\"baxis\":{\"gridcolor\":\"white\",\"linecolor\":\"white\",\"ticks\":\"\"},\"bgcolor\":\"#E5ECF6\",\"caxis\":{\"gridcolor\":\"white\",\"linecolor\":\"white\",\"ticks\":\"\"}},\"title\":{\"x\":0.05},\"xaxis\":{\"automargin\":true,\"gridcolor\":\"white\",\"linecolor\":\"white\",\"ticks\":\"\",\"title\":{\"standoff\":15},\"zerolinecolor\":\"white\",\"zerolinewidth\":2},\"yaxis\":{\"automargin\":true,\"gridcolor\":\"white\",\"linecolor\":\"white\",\"ticks\":\"\",\"title\":{\"standoff\":15},\"zerolinecolor\":\"white\",\"zerolinewidth\":2}}},\"mapbox\":{\"domain\":{\"x\":[0.0,1.0],\"y\":[0.0,1.0]},\"center\":{\"lat\":-3.99313,\"lon\":-79.20422},\"zoom\":10.5,\"style\":\"open-street-map\"},\"coloraxis\":{\"colorscale\":[[0.0,\"#0d0887\"],[0.1111111111111111,\"#46039f\"],[0.2222222222222222,\"#7201a8\"],[0.3333333333333333,\"#9c179e\"],[0.4444444444444444,\"#bd3786\"],[0.5555555555555556,\"#d8576b\"],[0.6666666666666666,\"#ed7953\"],[0.7777777777777778,\"#fb9f3a\"],[0.8888888888888888,\"#fdca26\"],[1.0,\"#f0f921\"]]},\"legend\":{\"tracegroupgap\":0},\"margin\":{\"t\":60}},                        {\"responsive\": true}                    ).then(function(){\n",
              "                            \n",
              "var gd = document.getElementById('6b77fbc2-a1e9-4aa3-950f-65a2f5922db8');\n",
              "var x = new MutationObserver(function (mutations, observer) {{\n",
              "        var display = window.getComputedStyle(gd).display;\n",
              "        if (!display || display === 'none') {{\n",
              "            console.log([gd, 'removed!']);\n",
              "            Plotly.purge(gd);\n",
              "            observer.disconnect();\n",
              "        }}\n",
              "}});\n",
              "\n",
              "// Listen for the removal of the full notebook cells\n",
              "var notebookContainer = gd.closest('#notebook-container');\n",
              "if (notebookContainer) {{\n",
              "    x.observe(notebookContainer, {childList: true});\n",
              "}}\n",
              "\n",
              "// Listen for the clearing of the current output cell\n",
              "var outputEl = gd.closest('.output');\n",
              "if (outputEl) {{\n",
              "    x.observe(outputEl, {childList: true});\n",
              "}}\n",
              "\n",
              "                        })                };                            </script>        </div>\n",
              "</body>\n",
              "</html>"
            ]
          },
          "metadata": {}
        }
      ]
    },
    {
      "cell_type": "code",
      "source": [
        "fig, ax = plt.subplots(figsize=(9,4))\n",
        "\n",
        "for zona in df.zona.unique():\n",
        "    df_temp = df[df['zona'] == zona].copy()\n",
        "    df_temp['fecha'] = pd.to_datetime(df_temp['fecha'],errors='coerce')\n",
        "    df_temp['fecha'] = df_temp['fecha'].dt.strftime('%m-%d')\n",
        "    df_temp = df_temp.groupby(df_temp['fecha']).size()\n",
        "    #df_temp.plot(label=\"fecha\", ax=ax)\n",
        "\n",
        "ax.set_title('Número de accidentes publicados por mes')\n",
        "ax.legend();"
      ],
      "metadata": {
        "colab": {
          "base_uri": "https://localhost:8080/",
          "height": 298
        },
        "id": "oHtBVMeHkBmG",
        "outputId": "86dc5c03-f07a-408f-85eb-38aaeaf6ee3b"
      },
      "execution_count": 108,
      "outputs": [
        {
          "output_type": "stream",
          "name": "stderr",
          "text": [
            "WARNING:matplotlib.legend:No handles with labels found to put in legend.\n"
          ]
        },
        {
          "output_type": "display_data",
          "data": {
            "text/plain": [
              "<Figure size 648x288 with 1 Axes>"
            ],
            "image/png": "[encoded data removed]"
          },
          "metadata": {
            "needs_background": "light"
          }
        }
      ]
    },
    {
      "cell_type": "code",
      "source": [
        "#df['ano'] = df['ano'].replace({'-':''}, regex=True).astype(float)\n",
        "#df['hora'] = df['hora'].replace({':':''}, regex=True).astype(float)\n",
        "#df['hora'] = df['hora'].replace({':':''}, regex=True).astype(float)\n",
        "#df.Discount.replace('',np.nan)\n",
        "#df['ano'] = pd.to_datetime(df['ano'],format='%Y%m%d')\n",
        "#df['hora'] = pd.to_datetime(df['hora'],format='%H:%M')\n",
        "df.isnull().sum()"
      ],
      "metadata": {
        "colab": {
          "base_uri": "https://localhost:8080/"
        },
        "id": "E8piPBICnowr",
        "outputId": "8820fa0d-d0d6-4432-bc64-baf74956614f"
      },
      "execution_count": 109,
      "outputs": [
        {
          "output_type": "execute_result",
          "data": {
            "text/plain": [
              "fecha               0\n",
              "dia                 0\n",
              "hora                0\n",
              "latitud             0\n",
              "longitud            0\n",
              "tipologia           0\n",
              "direccion           0\n",
              "zona                0\n",
              "parroquia_urbana    0\n",
              "causas              0\n",
              "nro_heridos         0\n",
              "nro_fallecidos      0\n",
              "dtype: int64"
            ]
          },
          "metadata": {},
          "execution_count": 109
        }
      ]
    },
    {
      "cell_type": "code",
      "source": [
        "df=df.loc[:,df.columns!=\"fecha\"]\n",
        "#df=df.loc[:,df.columns!=\"hora\"]\n",
        "df=df.loc[:,df.columns!=\"latitud\"]\n",
        "df=df.loc[:,df.columns!=\"longitud\"]\n",
        "df=df.loc[:,df.columns!=\"direccion\"]\n",
        "df=df.loc[:,df.columns!=\"gravedad\"]\n",
        "df=df.loc[:,df.columns!=\"vehiculos_retenidos\"]\n",
        "df=df.loc[:,df.columns!=\"senalizacion_existente\"]\n",
        "df=df.loc[:,df.columns!=\"condicion_calzada\"]\n",
        "df=df.loc[:,df.columns!=\"condicion_atmosferica\"]"
      ],
      "metadata": {
        "id": "O_tfOlwzlAc4"
      },
      "execution_count": 110,
      "outputs": []
    },
    {
      "cell_type": "code",
      "source": [
        ""
      ],
      "metadata": {
        "id": "sCZGqqX3_QgD"
      },
      "execution_count": 110,
      "outputs": []
    },
    {
      "cell_type": "code",
      "source": [
        "df.isnull().sum()"
      ],
      "metadata": {
        "id": "o7vaXvJAwsW3",
        "colab": {
          "base_uri": "https://localhost:8080/"
        },
        "outputId": "dee4da5c-bd4b-49de-f418-3c081b6313fd"
      },
      "execution_count": 111,
      "outputs": [
        {
          "output_type": "execute_result",
          "data": {
            "text/plain": [
              "dia                 0\n",
              "hora                0\n",
              "tipologia           0\n",
              "zona                0\n",
              "parroquia_urbana    0\n",
              "causas              0\n",
              "nro_heridos         0\n",
              "nro_fallecidos      0\n",
              "dtype: int64"
            ]
          },
          "metadata": {},
          "execution_count": 111
        }
      ]
    },
    {
      "cell_type": "code",
      "source": [
        "df.sample(10)"
      ],
      "metadata": {
        "id": "WxOoBT4UNzQt",
        "colab": {
          "base_uri": "https://localhost:8080/",
          "height": 363
        },
        "outputId": "fc7a0d18-44a2-4ceb-8619-db8b769b5051"
      },
      "execution_count": 112,
      "outputs": [
        {
          "output_type": "execute_result",
          "data": {
            "text/plain": [
              "         dia hora                     tipologia    zona parroquia_urbana  \\\n",
              "422  domingo  h14        choque lateral angular  urbana          punzara   \n",
              "193    lunes  h09            choque por alcance  urbana          carigan   \n",
              "66    martes  h21  choque lateral perpendicular  urbana    san sebastian   \n",
              "373   jueves  h22             perdida de carril  urbana            sucre   \n",
              "31    sabado  h21            choque por alcance  urbana      el sagrario   \n",
              "171    lunes  h08  choque lateral perpendicular  urbana      el sagrario   \n",
              "461  domingo  h06        choque lateral angular  urbana      el sagrario   \n",
              "92   viernes  h21  choque lateral perpendicular  urbana      el sagrario   \n",
              "462  domingo  h02  choque lateral perpendicular  urbana            sucre   \n",
              "316   sabado  h02     choque frontal excentrico  urbana          carigan   \n",
              "\n",
              "                                  causas  nro_heridos  nro_fallecidos  \n",
              "422           no ceder el derecho de via            1               0  \n",
              "193     conducir en estado de embriaguez            0               0  \n",
              "66            no ceder el derecho de via            3               0  \n",
              "373      conducir en exceso de velocidad            0               0  \n",
              "31      conducir en estado de embriaguez            1               0  \n",
              "171   cambio brusco e indebido de carril            0               0  \n",
              "461  no respetar las senales de transito            0               0  \n",
              "92      conducir en estado de embriaguez            2               0  \n",
              "462     conducir en estado de embriaguez            1               0  \n",
              "316     conducir en estado de embriaguez            3               0  "
            ],
            "text/html": [
              "\n",
              "  <div id=\"df-d370e28d-504c-4fa1-9fd9-c3e7a3a32d5e\">\n",
              "    <div class=\"colab-df-container\">\n",
              "      <div>\n",
              "<style scoped>\n",
              "    .dataframe tbody tr th:only-of-type {\n",
              "        vertical-align: middle;\n",
              "    }\n",
              "\n",
              "    .dataframe tbody tr th {\n",
              "        vertical-align: top;\n",
              "    }\n",
              "\n",
              "    .dataframe thead th {\n",
              "        text-align: right;\n",
              "    }\n",
              "</style>\n",
              "<table border=\"1\" class=\"dataframe\">\n",
              "  <thead>\n",
              "    <tr style=\"text-align: right;\">\n",
              "      <th></th>\n",
              "      <th>dia</th>\n",
              "      <th>hora</th>\n",
              "      <th>tipologia</th>\n",
              "      <th>zona</th>\n",
              "      <th>parroquia_urbana</th>\n",
              "      <th>causas</th>\n",
              "      <th>nro_heridos</th>\n",
              "      <th>nro_fallecidos</th>\n",
              "    </tr>\n",
              "  </thead>\n",
              "  <tbody>\n",
              "    <tr>\n",
              "      <th>422</th>\n",
              "      <td>domingo</td>\n",
              "      <td>h14</td>\n",
              "      <td>choque lateral angular</td>\n",
              "      <td>urbana</td>\n",
              "      <td>punzara</td>\n",
              "      <td>no ceder el derecho de via</td>\n",
              "      <td>1</td>\n",
              "      <td>0</td>\n",
              "    </tr>\n",
              "    <tr>\n",
              "      <th>193</th>\n",
              "      <td>lunes</td>\n",
              "      <td>h09</td>\n",
              "      <td>choque por alcance</td>\n",
              "      <td>urbana</td>\n",
              "      <td>carigan</td>\n",
              "      <td>conducir en estado de embriaguez</td>\n",
              "      <td>0</td>\n",
              "      <td>0</td>\n",
              "    </tr>\n",
              "    <tr>\n",
              "      <th>66</th>\n",
              "      <td>martes</td>\n",
              "      <td>h21</td>\n",
              "      <td>choque lateral perpendicular</td>\n",
              "      <td>urbana</td>\n",
              "      <td>san sebastian</td>\n",
              "      <td>no ceder el derecho de via</td>\n",
              "      <td>3</td>\n",
              "      <td>0</td>\n",
              "    </tr>\n",
              "    <tr>\n",
              "      <th>373</th>\n",
              "      <td>jueves</td>\n",
              "      <td>h22</td>\n",
              "      <td>perdida de carril</td>\n",
              "      <td>urbana</td>\n",
              "      <td>sucre</td>\n",
              "      <td>conducir en exceso de velocidad</td>\n",
              "      <td>0</td>\n",
              "      <td>0</td>\n",
              "    </tr>\n",
              "    <tr>\n",
              "      <th>31</th>\n",
              "      <td>sabado</td>\n",
              "      <td>h21</td>\n",
              "      <td>choque por alcance</td>\n",
              "      <td>urbana</td>\n",
              "      <td>el sagrario</td>\n",
              "      <td>conducir en estado de embriaguez</td>\n",
              "      <td>1</td>\n",
              "      <td>0</td>\n",
              "    </tr>\n",
              "    <tr>\n",
              "      <th>171</th>\n",
              "      <td>lunes</td>\n",
              "      <td>h08</td>\n",
              "      <td>choque lateral perpendicular</td>\n",
              "      <td>urbana</td>\n",
              "      <td>el sagrario</td>\n",
              "      <td>cambio brusco e indebido de carril</td>\n",
              "      <td>0</td>\n",
              "      <td>0</td>\n",
              "    </tr>\n",
              "    <tr>\n",
              "      <th>461</th>\n",
              "      <td>domingo</td>\n",
              "      <td>h06</td>\n",
              "      <td>choque lateral angular</td>\n",
              "      <td>urbana</td>\n",
              "      <td>el sagrario</td>\n",
              "      <td>no respetar las senales de transito</td>\n",
              "      <td>0</td>\n",
              "      <td>0</td>\n",
              "    </tr>\n",
              "    <tr>\n",
              "      <th>92</th>\n",
              "      <td>viernes</td>\n",
              "      <td>h21</td>\n",
              "      <td>choque lateral perpendicular</td>\n",
              "      <td>urbana</td>\n",
              "      <td>el sagrario</td>\n",
              "      <td>conducir en estado de embriaguez</td>\n",
              "      <td>2</td>\n",
              "      <td>0</td>\n",
              "    </tr>\n",
              "    <tr>\n",
              "      <th>462</th>\n",
              "      <td>domingo</td>\n",
              "      <td>h02</td>\n",
              "      <td>choque lateral perpendicular</td>\n",
              "      <td>urbana</td>\n",
              "      <td>sucre</td>\n",
              "      <td>conducir en estado de embriaguez</td>\n",
              "      <td>1</td>\n",
              "      <td>0</td>\n",
              "    </tr>\n",
              "    <tr>\n",
              "      <th>316</th>\n",
              "      <td>sabado</td>\n",
              "      <td>h02</td>\n",
              "      <td>choque frontal excentrico</td>\n",
              "      <td>urbana</td>\n",
              "      <td>carigan</td>\n",
              "      <td>conducir en estado de embriaguez</td>\n",
              "      <td>3</td>\n",
              "      <td>0</td>\n",
              "    </tr>\n",
              "  </tbody>\n",
              "</table>\n",
              "</div>\n",
              "      <button class=\"colab-df-convert\" onclick=\"convertToInteractive('df-d370e28d-504c-4fa1-9fd9-c3e7a3a32d5e')\"\n",
              "              title=\"Convert this dataframe to an interactive table.\"\n",
              "              style=\"display:none;\">\n",
              "        \n",
              "  <svg xmlns=\"http://www.w3.org/2000/svg\" height=\"24px\"viewBox=\"0 0 24 24\"\n",
              "       width=\"24px\">\n",
              "    <path d=\"M0 0h24v24H0V0z\" fill=\"none\"/>\n",
              "    <path d=\"M18.56 5.44l.94 2.06.94-2.06 2.06-.94-2.06-.94-.94-2.06-.94 2.06-2.06.94zm-11 1L8.5 8.5l.94-2.06 2.06-.94-2.06-.94L8.5 2.5l-.94 2.06-2.06.94zm10 10l.94 2.06.94-2.06 2.06-.94-2.06-.94-.94-2.06-.94 2.06-2.06.94z\"/><path d=\"M17.41 7.96l-1.37-1.37c-.4-.4-.92-.59-1.43-.59-.52 0-1.04.2-1.43.59L10.3 9.45l-7.72 7.72c-.78.78-.78 2.05 0 2.83L4 21.41c.39.39.9.59 1.41.59.51 0 1.02-.2 1.41-.59l7.78-7.78 2.81-2.81c.8-.78.8-2.07 0-2.86zM5.41 20L4 18.59l7.72-7.72 1.47 1.35L5.41 20z\"/>\n",
              "  </svg>\n",
              "      </button>\n",
              "      \n",
              "  <style>\n",
              "    .colab-df-container {\n",
              "      display:flex;\n",
              "      flex-wrap:wrap;\n",
              "      gap: 12px;\n",
              "    }\n",
              "\n",
              "    .colab-df-convert {\n",
              "      background-color: #E8F0FE;\n",
              "      border: none;\n",
              "      border-radius: 50%;\n",
              "      cursor: pointer;\n",
              "      display: none;\n",
              "      fill: #1967D2;\n",
              "      height: 32px;\n",
              "      padding: 0 0 0 0;\n",
              "      width: 32px;\n",
              "    }\n",
              "\n",
              "    .colab-df-convert:hover {\n",
              "      background-color: #E2EBFA;\n",
              "      box-shadow: 0px 1px 2px rgba(60, 64, 67, 0.3), 0px 1px 3px 1px rgba(60, 64, 67, 0.15);\n",
              "      fill: #174EA6;\n",
              "    }\n",
              "\n",
              "    [theme=dark] .colab-df-convert {\n",
              "      background-color: #3B4455;\n",
              "      fill: #D2E3FC;\n",
              "    }\n",
              "\n",
              "    [theme=dark] .colab-df-convert:hover {\n",
              "      background-color: #434B5C;\n",
              "      box-shadow: 0px 1px 3px 1px rgba(0, 0, 0, 0.15);\n",
              "      filter: drop-shadow(0px 1px 2px rgba(0, 0, 0, 0.3));\n",
              "      fill: #FFFFFF;\n",
              "    }\n",
              "  </style>\n",
              "\n",
              "      <script>\n",
              "        const buttonEl =\n",
              "          document.querySelector('#df-d370e28d-504c-4fa1-9fd9-c3e7a3a32d5e button.colab-df-convert');\n",
              "        buttonEl.style.display =\n",
              "          google.colab.kernel.accessAllowed ? 'block' : 'none';\n",
              "\n",
              "        async function convertToInteractive(key) {\n",
              "          const element = document.querySelector('#df-d370e28d-504c-4fa1-9fd9-c3e7a3a32d5e');\n",
              "          const dataTable =\n",
              "            await google.colab.kernel.invokeFunction('convertToInteractive',\n",
              "                                                     [key], {});\n",
              "          if (!dataTable) return;\n",
              "\n",
              "          const docLinkHtml = 'Like what you see? Visit the ' +\n",
              "            '<a target=\"_blank\" href=https://colab.research.google.com/notebooks/data_table.ipynb>data table notebook</a>'\n",
              "            + ' to learn more about interactive tables.';\n",
              "          element.innerHTML = '';\n",
              "          dataTable['output_type'] = 'display_data';\n",
              "          await google.colab.output.renderOutput(dataTable, element);\n",
              "          const docLink = document.createElement('div');\n",
              "          docLink.innerHTML = docLinkHtml;\n",
              "          element.appendChild(docLink);\n",
              "        }\n",
              "      </script>\n",
              "    </div>\n",
              "  </div>\n",
              "  "
            ]
          },
          "metadata": {},
          "execution_count": 112
        }
      ]
    },
    {
      "cell_type": "code",
      "source": [
        "#print(df['direccion'].unique())# datos en texto"
      ],
      "metadata": {
        "id": "iIiiPNGXOJEb"
      },
      "execution_count": 113,
      "outputs": []
    },
    {
      "cell_type": "code",
      "source": [
        "df[['parroquia_urbana','nro_heridos']].groupby(['parroquia_urbana']).mean().plot.bar()\n",
        "plt.show()"
      ],
      "metadata": {
        "id": "epLvd0qIobnM",
        "colab": {
          "base_uri": "https://localhost:8080/",
          "height": 339
        },
        "outputId": "80e1f16f-6c41-495d-9d95-173c1b17f6aa"
      },
      "execution_count": 114,
      "outputs": [
        {
          "output_type": "display_data",
          "data": {
            "text/plain": [
              "<Figure size 432x288 with 1 Axes>"
            ],
            "image/png": "[encoded data removed]"
          },
          "metadata": {
            "needs_background": "light"
          }
        }
      ]
    },
    {
      "cell_type": "code",
      "source": [
        "ds=pd.DataFrame(df)\n",
        "#Presenta el numero de filas\n",
        "print(\"El numero de filas(observaciones) es: \",ds.shape[0])\n",
        "\n",
        "#Presenta el numero de columnas\n",
        "print(\"El numero de columnas(variables) es: \",len(ds.columns))"
      ],
      "metadata": {
        "id": "opp5YQdwqE58",
        "colab": {
          "base_uri": "https://localhost:8080/"
        },
        "outputId": "4d847c52-9f04-44b0-f4f8-0a7345c8d372"
      },
      "execution_count": 115,
      "outputs": [
        {
          "output_type": "stream",
          "name": "stdout",
          "text": [
            "El numero de filas(observaciones) es:  506\n",
            "El numero de columnas(variables) es:  8\n"
          ]
        }
      ]
    },
    {
      "cell_type": "code",
      "source": [
        "# tipos de la variables\n",
        "ds.dtypes"
      ],
      "metadata": {
        "id": "dwGSc1hkqvCC",
        "colab": {
          "base_uri": "https://localhost:8080/"
        },
        "outputId": "ee23877f-a923-4933-9b04-49f75c36d4ca"
      },
      "execution_count": 116,
      "outputs": [
        {
          "output_type": "execute_result",
          "data": {
            "text/plain": [
              "dia                 object\n",
              "hora                object\n",
              "tipologia           object\n",
              "zona                object\n",
              "parroquia_urbana    object\n",
              "causas              object\n",
              "nro_heridos          int64\n",
              "nro_fallecidos       int64\n",
              "dtype: object"
            ]
          },
          "metadata": {},
          "execution_count": 116
        }
      ]
    },
    {
      "cell_type": "code",
      "source": [
        "df['causas'].value_counts()"
      ],
      "metadata": {
        "id": "GxyLlgzIn3zp",
        "colab": {
          "base_uri": "https://localhost:8080/"
        },
        "outputId": "bf9f4f36-2262-458e-db79-0af66b85c09d"
      },
      "execution_count": 117,
      "outputs": [
        {
          "output_type": "execute_result",
          "data": {
            "text/plain": [
              "conducir en exceso de velocidad                   117\n",
              "conducir en estado de embriaguez                  115\n",
              "no ceder el derecho de via                         91\n",
              "imprudencia del conductor                          71\n",
              "no respetar las senales de transito                32\n",
              "no mantener la distancia reglamentaria             32\n",
              "imprudencia del peaton                             24\n",
              "cambio brusco e indebido de carril                  7\n",
              "invadir carril de circulacion                       5\n",
              "razones desconocidas                                5\n",
              "fallas mecanicas no previsibles                     3\n",
              "condiciones climaticas desfavorables                1\n",
              "negligencia del conductor                           1\n",
              "no respetar las ordenes del agente de transito      1\n",
              "impericia del conductor                             1\n",
              "Name: causas, dtype: int64"
            ]
          },
          "metadata": {},
          "execution_count": 117
        }
      ]
    },
    {
      "cell_type": "code",
      "source": [
        "print(df['causas'].unique())# datos en texto"
      ],
      "metadata": {
        "id": "W9xYRDcbRTtH",
        "colab": {
          "base_uri": "https://localhost:8080/"
        },
        "outputId": "a059399d-56ef-44e7-ef92-68bc95486eed"
      },
      "execution_count": 118,
      "outputs": [
        {
          "output_type": "stream",
          "name": "stdout",
          "text": [
            "['conducir en estado de embriaguez' 'imprudencia del conductor'\n",
            " 'no ceder el derecho de via' 'conducir en exceso de velocidad'\n",
            " 'cambio brusco e indebido de carril' 'fallas mecanicas no previsibles'\n",
            " 'no respetar las senales de transito' 'invadir carril de circulacion'\n",
            " 'imprudencia del peaton' 'no mantener la distancia reglamentaria'\n",
            " 'razones desconocidas' 'condiciones climaticas desfavorables'\n",
            " 'negligencia del conductor'\n",
            " 'no respetar las ordenes del agente de transito'\n",
            " 'impericia del conductor']\n"
          ]
        }
      ]
    },
    {
      "cell_type": "code",
      "source": [
        "print(df['causas'].unique())# datos en texto"
      ],
      "metadata": {
        "id": "az9j4Z5zXhOx",
        "colab": {
          "base_uri": "https://localhost:8080/"
        },
        "outputId": "8bcb60e5-d451-4395-ddfe-ced7d64e2d35"
      },
      "execution_count": 119,
      "outputs": [
        {
          "output_type": "stream",
          "name": "stdout",
          "text": [
            "['conducir en estado de embriaguez' 'imprudencia del conductor'\n",
            " 'no ceder el derecho de via' 'conducir en exceso de velocidad'\n",
            " 'cambio brusco e indebido de carril' 'fallas mecanicas no previsibles'\n",
            " 'no respetar las senales de transito' 'invadir carril de circulacion'\n",
            " 'imprudencia del peaton' 'no mantener la distancia reglamentaria'\n",
            " 'razones desconocidas' 'condiciones climaticas desfavorables'\n",
            " 'negligencia del conductor'\n",
            " 'no respetar las ordenes del agente de transito'\n",
            " 'impericia del conductor']\n"
          ]
        }
      ]
    },
    {
      "cell_type": "code",
      "source": [
        "df['causas']= df['causas'].apply(lambda x: \n",
        "                                    1 if x == 'imprudencia del conductor' else \n",
        "                                    2 if x == 'conducir en estado de embriaguez' else \n",
        "                                    3 if x == 'conducir en exceso de velocidad' else\n",
        "                                    4 if x == 'no respetar las senales de transito' else \n",
        "                                    5 if x == 'imprudencia del peaton' else\n",
        "                                    6 if x == 'no ceder el derecho de via' else\n",
        "                                    7 if x == 'fallas mecanicas no previsibles' else\n",
        "                                    8 if x == 'no mantener la distancia reglamentaria' else\n",
        "                                    9 if x == 'condiciones climaticas desfavorables' else\n",
        "                                    10 if x == 'negligencia del conductor' else\n",
        "                                    11 if x == 'cruce de animales en la via' else\n",
        "                                    12 if x == 'impericia del conductor' else\n",
        "                                    13)\n"
      ],
      "metadata": {
        "id": "XTXif1_rPk45"
      },
      "execution_count": 120,
      "outputs": []
    },
    {
      "cell_type": "code",
      "source": [
        "print(df['parroquia_urbana'].unique()) # datos convertidos a numeros enteros"
      ],
      "metadata": {
        "id": "ilIV9JwwQ67H",
        "colab": {
          "base_uri": "https://localhost:8080/"
        },
        "outputId": "fe7425b2-6126-4610-c562-14edb0bee428"
      },
      "execution_count": 121,
      "outputs": [
        {
          "output_type": "stream",
          "name": "stdout",
          "text": [
            "['sucre' 'punzara' 'carigan' 'el sagrario' 'el valle' 'san sebastian']\n"
          ]
        }
      ]
    },
    {
      "cell_type": "code",
      "source": [
        "df['parroquia_urbana']= df['parroquia_urbana'].apply(lambda x: \n",
        "                                    1 if x == 'el sagrario' else \n",
        "                                    2 if x == 'san sebastian' else \n",
        "                                    3 if x == 'el valle' else\n",
        "                                    4 if x == 'sucre' else \n",
        "                                    5 if x == 'punzara' else\n",
        "                                    6 if x == 'carigan' else\n",
        "                                    7)"
      ],
      "metadata": {
        "id": "KBH39v_gRfzm"
      },
      "execution_count": 122,
      "outputs": []
    },
    {
      "cell_type": "code",
      "source": [
        "print(df['parroquia_urbana'].unique()) # datos convertidos a numeros enteros"
      ],
      "metadata": {
        "id": "jqwp16JWYhoM",
        "colab": {
          "base_uri": "https://localhost:8080/"
        },
        "outputId": "9d7bd8e8-fa9b-4862-95eb-a9d8be7dad37"
      },
      "execution_count": 123,
      "outputs": [
        {
          "output_type": "stream",
          "name": "stdout",
          "text": [
            "[4 5 6 1 3 2]\n"
          ]
        }
      ]
    },
    {
      "cell_type": "code",
      "source": [
        "df['zona']= df['zona'].apply(lambda x: \n",
        "                                    1 if x == 'urbana' else \n",
        "                                    2)"
      ],
      "metadata": {
        "id": "jrw6xwQ1Yoy8"
      },
      "execution_count": 124,
      "outputs": []
    },
    {
      "cell_type": "code",
      "source": [
        "print(df['zona'].unique()) # datos convertidos a numeros enteros"
      ],
      "metadata": {
        "id": "_Z1Cs76mYobf",
        "colab": {
          "base_uri": "https://localhost:8080/"
        },
        "outputId": "44f7e30e-6ca3-415f-866a-3c11d7035a14"
      },
      "execution_count": 125,
      "outputs": [
        {
          "output_type": "stream",
          "name": "stdout",
          "text": [
            "[1]\n"
          ]
        }
      ]
    },
    {
      "cell_type": "code",
      "source": [
        "print(df['tipologia'].unique()) # datos convertidos a numeros enteros"
      ],
      "metadata": {
        "id": "o7gmAPUUZLBv",
        "colab": {
          "base_uri": "https://localhost:8080/"
        },
        "outputId": "59b2d98a-398f-4d6b-ca33-c51a5e9517db"
      },
      "execution_count": 126,
      "outputs": [
        {
          "output_type": "stream",
          "name": "stdout",
          "text": [
            "['estrellamiento' 'roce positivo' 'choque lateral angular'\n",
            " 'choque lateral perpendicular' 'choque frontal excentrico' 'atropello'\n",
            " 'perdida de carril' 'colision' 'atipico' 'choque por alcance'\n",
            " 'encunetamiento' 'arrollamiento' 'roce negativo' 'caida de pasajero'\n",
            " 'rozamiento' 'choque frontal longitudinal' 'volcamiento lateral'\n",
            " 'volcamiento longitudinal']\n"
          ]
        }
      ]
    },
    {
      "cell_type": "code",
      "source": [
        "df['tipologia']= df['tipologia'].apply(lambda x: \n",
        "                                    1 if x == 'arrollamiento' else \n",
        "                                    2 if x == 'atipico' else \n",
        "                                    3 if x == 'atropello' else\n",
        "                                    4 if x == 'caida de pasajero' else \n",
        "                                    5 if x == 'choque frontal' else\n",
        "                                    6 if x == 'choque frontal excentrico' else\n",
        "                                    7 if x == 'choque frontal longitudinal' else\n",
        "                                    8 if x == 'choque lateral angular' else\n",
        "                                    9 if x == 'choque lateral perpendicular' else\n",
        "                                    10 if x == 'choque por alcance' else\n",
        "                                    11 if x == 'colision' else\n",
        "                                    12 if x == 'encunetamiento' else\n",
        "                                    13 if x == 'estrellamiento' else\n",
        "                                    14 if x == 'perdida de carril' else\n",
        "                                    15 if x == 'perdida de pista' else\n",
        "                                    16 if x == 'roce negativo' else\n",
        "                                    17 if x == 'roce positivo' else\n",
        "                                    18 if x == 'rozamiento' else\n",
        "                                    19 if x == 'volcamiento' else\n",
        "                                    20 if x == 'volcamiento lateral' else\n",
        "                                    21)"
      ],
      "metadata": {
        "id": "L7TgEU46iKzl"
      },
      "execution_count": 127,
      "outputs": []
    },
    {
      "cell_type": "code",
      "source": [
        "print(df['tipologia'].unique()) # datos convertidos a numeros enteros"
      ],
      "metadata": {
        "id": "rfdXDyNpjsfI",
        "colab": {
          "base_uri": "https://localhost:8080/"
        },
        "outputId": "1617c65e-d182-46c2-dc96-743c780117b2"
      },
      "execution_count": 128,
      "outputs": [
        {
          "output_type": "stream",
          "name": "stdout",
          "text": [
            "[13 17  8  9  6  3 14 11  2 10 12  1 16  4 18  7 20 21]\n"
          ]
        }
      ]
    },
    {
      "cell_type": "code",
      "source": [
        "df['dia']= df['dia'].apply(lambda x: \n",
        "                                    1 if x == 'lunes' else \n",
        "                                    2 if x == 'martes' else \n",
        "                                    3 if x == 'miercoles' else\n",
        "                                    4 if x == 'jueves' else \n",
        "                                    5 if x == 'viernes' else\n",
        "                                    6 if x == 'sabado' else\n",
        "                                    7 )"
      ],
      "metadata": {
        "id": "sDjBZz1026bn"
      },
      "execution_count": 129,
      "outputs": []
    },
    {
      "cell_type": "code",
      "source": [
        "print(df['dia'].unique()) # datos convertidos a numeros enteros"
      ],
      "metadata": {
        "colab": {
          "base_uri": "https://localhost:8080/"
        },
        "id": "s7ruL01p3o5F",
        "outputId": "14fd1286-17e1-4d83-efb1-547779b193e8"
      },
      "execution_count": 130,
      "outputs": [
        {
          "output_type": "stream",
          "name": "stdout",
          "text": [
            "[2 3 4 6 7 1 5]\n"
          ]
        }
      ]
    },
    {
      "cell_type": "code",
      "source": [
        "df['hora']= df['hora'].apply(lambda x: \n",
        "                                    0 if x == 'h00' else\n",
        "                                    1 if x == 'h01' else \n",
        "                                    2 if x == 'h02' else \n",
        "                                    3 if x == 'h03' else\n",
        "                                    4 if x == 'h04' else \n",
        "                                    5 if x == 'h05' else\n",
        "                                    6 if x == 'h06' else\n",
        "                                    7 if x == 'h07' else\n",
        "                                    8 if x == 'h08' else\n",
        "                                    9 if x == 'h09' else\n",
        "                                    10 if x == 'h10' else\n",
        "                                    11 if x == 'h11' else\n",
        "                                    12 if x == 'h12' else\n",
        "                                    13 if x == 'h13' else\n",
        "                                    14 if x == 'h14' else\n",
        "                                    15 if x == 'h15' else\n",
        "                                    16 if x == 'h16' else\n",
        "                                    17 if x == 'h17' else\n",
        "                                    18 if x == 'h18' else\n",
        "                                    19 if x == 'h19' else\n",
        "                                    20 if x == 'h20' else\n",
        "                                    21 if x == 'h21' else\n",
        "                                    22 if x == 'h22' else\n",
        "                                    23)"
      ],
      "metadata": {
        "id": "thl5VWTJ3x4e"
      },
      "execution_count": 131,
      "outputs": []
    },
    {
      "cell_type": "code",
      "source": [
        "df= df[df['parroquia_urbana'] <= 6]\n",
        "df= df[df['zona'] <= 1]"
      ],
      "metadata": {
        "id": "0rJkAmkImrgr"
      },
      "execution_count": 132,
      "outputs": []
    },
    {
      "cell_type": "code",
      "source": [
        "# datos aleatorios (muestra de 10 elementos)\n",
        "ds.sample(10)"
      ],
      "metadata": {
        "id": "zARbQ3mNq7NS",
        "colab": {
          "base_uri": "https://localhost:8080/",
          "height": 363
        },
        "outputId": "ccff9dd1-19ca-4284-b786-1378e5f5fb5c"
      },
      "execution_count": 133,
      "outputs": [
        {
          "output_type": "execute_result",
          "data": {
            "text/plain": [
              "     dia  hora  tipologia  zona  parroquia_urbana  causas  nro_heridos  \\\n",
              "264    6     0         13     1                 4       2            0   \n",
              "190    7     2          9     1                 1       3            0   \n",
              "219    7     8          8     1                 1       6            0   \n",
              "473    6     2          3     1                 1       3            1   \n",
              "226    2    23         10     1                 2       8            3   \n",
              "234    5    11         13     1                 2       1            2   \n",
              "86     2     8          8     1                 4       4            1   \n",
              "348    1    12         10     1                 1       8            0   \n",
              "43     5    12          3     1                 4       5            1   \n",
              "215    5    14          9     1                 4       6            1   \n",
              "\n",
              "     nro_fallecidos  \n",
              "264               0  \n",
              "190               0  \n",
              "219               0  \n",
              "473               0  \n",
              "226               0  \n",
              "234               0  \n",
              "86                0  \n",
              "348               0  \n",
              "43                0  \n",
              "215               0  "
            ],
            "text/html": [
              "\n",
              "  <div id=\"df-e9e420e5-6a40-4ede-b301-9a7dc908ce64\">\n",
              "    <div class=\"colab-df-container\">\n",
              "      <div>\n",
              "<style scoped>\n",
              "    .dataframe tbody tr th:only-of-type {\n",
              "        vertical-align: middle;\n",
              "    }\n",
              "\n",
              "    .dataframe tbody tr th {\n",
              "        vertical-align: top;\n",
              "    }\n",
              "\n",
              "    .dataframe thead th {\n",
              "        text-align: right;\n",
              "    }\n",
              "</style>\n",
              "<table border=\"1\" class=\"dataframe\">\n",
              "  <thead>\n",
              "    <tr style=\"text-align: right;\">\n",
              "      <th></th>\n",
              "      <th>dia</th>\n",
              "      <th>hora</th>\n",
              "      <th>tipologia</th>\n",
              "      <th>zona</th>\n",
              "      <th>parroquia_urbana</th>\n",
              "      <th>causas</th>\n",
              "      <th>nro_heridos</th>\n",
              "      <th>nro_fallecidos</th>\n",
              "    </tr>\n",
              "  </thead>\n",
              "  <tbody>\n",
              "    <tr>\n",
              "      <th>264</th>\n",
              "      <td>6</td>\n",
              "      <td>0</td>\n",
              "      <td>13</td>\n",
              "      <td>1</td>\n",
              "      <td>4</td>\n",
              "      <td>2</td>\n",
              "      <td>0</td>\n",
              "      <td>0</td>\n",
              "    </tr>\n",
              "    <tr>\n",
              "      <th>190</th>\n",
              "      <td>7</td>\n",
              "      <td>2</td>\n",
              "      <td>9</td>\n",
              "      <td>1</td>\n",
              "      <td>1</td>\n",
              "      <td>3</td>\n",
              "      <td>0</td>\n",
              "      <td>0</td>\n",
              "    </tr>\n",
              "    <tr>\n",
              "      <th>219</th>\n",
              "      <td>7</td>\n",
              "      <td>8</td>\n",
              "      <td>8</td>\n",
              "      <td>1</td>\n",
              "      <td>1</td>\n",
              "      <td>6</td>\n",
              "      <td>0</td>\n",
              "      <td>0</td>\n",
              "    </tr>\n",
              "    <tr>\n",
              "      <th>473</th>\n",
              "      <td>6</td>\n",
              "      <td>2</td>\n",
              "      <td>3</td>\n",
              "      <td>1</td>\n",
              "      <td>1</td>\n",
              "      <td>3</td>\n",
              "      <td>1</td>\n",
              "      <td>0</td>\n",
              "    </tr>\n",
              "    <tr>\n",
              "      <th>226</th>\n",
              "      <td>2</td>\n",
              "      <td>23</td>\n",
              "      <td>10</td>\n",
              "      <td>1</td>\n",
              "      <td>2</td>\n",
              "      <td>8</td>\n",
              "      <td>3</td>\n",
              "      <td>0</td>\n",
              "    </tr>\n",
              "    <tr>\n",
              "      <th>234</th>\n",
              "      <td>5</td>\n",
              "      <td>11</td>\n",
              "      <td>13</td>\n",
              "      <td>1</td>\n",
              "      <td>2</td>\n",
              "      <td>1</td>\n",
              "      <td>2</td>\n",
              "      <td>0</td>\n",
              "    </tr>\n",
              "    <tr>\n",
              "      <th>86</th>\n",
              "      <td>2</td>\n",
              "      <td>8</td>\n",
              "      <td>8</td>\n",
              "      <td>1</td>\n",
              "      <td>4</td>\n",
              "      <td>4</td>\n",
              "      <td>1</td>\n",
              "      <td>0</td>\n",
              "    </tr>\n",
              "    <tr>\n",
              "      <th>348</th>\n",
              "      <td>1</td>\n",
              "      <td>12</td>\n",
              "      <td>10</td>\n",
              "      <td>1</td>\n",
              "      <td>1</td>\n",
              "      <td>8</td>\n",
              "      <td>0</td>\n",
              "      <td>0</td>\n",
              "    </tr>\n",
              "    <tr>\n",
              "      <th>43</th>\n",
              "      <td>5</td>\n",
              "      <td>12</td>\n",
              "      <td>3</td>\n",
              "      <td>1</td>\n",
              "      <td>4</td>\n",
              "      <td>5</td>\n",
              "      <td>1</td>\n",
              "      <td>0</td>\n",
              "    </tr>\n",
              "    <tr>\n",
              "      <th>215</th>\n",
              "      <td>5</td>\n",
              "      <td>14</td>\n",
              "      <td>9</td>\n",
              "      <td>1</td>\n",
              "      <td>4</td>\n",
              "      <td>6</td>\n",
              "      <td>1</td>\n",
              "      <td>0</td>\n",
              "    </tr>\n",
              "  </tbody>\n",
              "</table>\n",
              "</div>\n",
              "      <button class=\"colab-df-convert\" onclick=\"convertToInteractive('df-e9e420e5-6a40-4ede-b301-9a7dc908ce64')\"\n",
              "              title=\"Convert this dataframe to an interactive table.\"\n",
              "              style=\"display:none;\">\n",
              "        \n",
              "  <svg xmlns=\"http://www.w3.org/2000/svg\" height=\"24px\"viewBox=\"0 0 24 24\"\n",
              "       width=\"24px\">\n",
              "    <path d=\"M0 0h24v24H0V0z\" fill=\"none\"/>\n",
              "    <path d=\"M18.56 5.44l.94 2.06.94-2.06 2.06-.94-2.06-.94-.94-2.06-.94 2.06-2.06.94zm-11 1L8.5 8.5l.94-2.06 2.06-.94-2.06-.94L8.5 2.5l-.94 2.06-2.06.94zm10 10l.94 2.06.94-2.06 2.06-.94-2.06-.94-.94-2.06-.94 2.06-2.06.94z\"/><path d=\"M17.41 7.96l-1.37-1.37c-.4-.4-.92-.59-1.43-.59-.52 0-1.04.2-1.43.59L10.3 9.45l-7.72 7.72c-.78.78-.78 2.05 0 2.83L4 21.41c.39.39.9.59 1.41.59.51 0 1.02-.2 1.41-.59l7.78-7.78 2.81-2.81c.8-.78.8-2.07 0-2.86zM5.41 20L4 18.59l7.72-7.72 1.47 1.35L5.41 20z\"/>\n",
              "  </svg>\n",
              "      </button>\n",
              "      \n",
              "  <style>\n",
              "    .colab-df-container {\n",
              "      display:flex;\n",
              "      flex-wrap:wrap;\n",
              "      gap: 12px;\n",
              "    }\n",
              "\n",
              "    .colab-df-convert {\n",
              "      background-color: #E8F0FE;\n",
              "      border: none;\n",
              "      border-radius: 50%;\n",
              "      cursor: pointer;\n",
              "      display: none;\n",
              "      fill: #1967D2;\n",
              "      height: 32px;\n",
              "      padding: 0 0 0 0;\n",
              "      width: 32px;\n",
              "    }\n",
              "\n",
              "    .colab-df-convert:hover {\n",
              "      background-color: #E2EBFA;\n",
              "      box-shadow: 0px 1px 2px rgba(60, 64, 67, 0.3), 0px 1px 3px 1px rgba(60, 64, 67, 0.15);\n",
              "      fill: #174EA6;\n",
              "    }\n",
              "\n",
              "    [theme=dark] .colab-df-convert {\n",
              "      background-color: #3B4455;\n",
              "      fill: #D2E3FC;\n",
              "    }\n",
              "\n",
              "    [theme=dark] .colab-df-convert:hover {\n",
              "      background-color: #434B5C;\n",
              "      box-shadow: 0px 1px 3px 1px rgba(0, 0, 0, 0.15);\n",
              "      filter: drop-shadow(0px 1px 2px rgba(0, 0, 0, 0.3));\n",
              "      fill: #FFFFFF;\n",
              "    }\n",
              "  </style>\n",
              "\n",
              "      <script>\n",
              "        const buttonEl =\n",
              "          document.querySelector('#df-e9e420e5-6a40-4ede-b301-9a7dc908ce64 button.colab-df-convert');\n",
              "        buttonEl.style.display =\n",
              "          google.colab.kernel.accessAllowed ? 'block' : 'none';\n",
              "\n",
              "        async function convertToInteractive(key) {\n",
              "          const element = document.querySelector('#df-e9e420e5-6a40-4ede-b301-9a7dc908ce64');\n",
              "          const dataTable =\n",
              "            await google.colab.kernel.invokeFunction('convertToInteractive',\n",
              "                                                     [key], {});\n",
              "          if (!dataTable) return;\n",
              "\n",
              "          const docLinkHtml = 'Like what you see? Visit the ' +\n",
              "            '<a target=\"_blank\" href=https://colab.research.google.com/notebooks/data_table.ipynb>data table notebook</a>'\n",
              "            + ' to learn more about interactive tables.';\n",
              "          element.innerHTML = '';\n",
              "          dataTable['output_type'] = 'display_data';\n",
              "          await google.colab.output.renderOutput(dataTable, element);\n",
              "          const docLink = document.createElement('div');\n",
              "          docLink.innerHTML = docLinkHtml;\n",
              "          element.appendChild(docLink);\n",
              "        }\n",
              "      </script>\n",
              "    </div>\n",
              "  </div>\n",
              "  "
            ]
          },
          "metadata": {},
          "execution_count": 133
        }
      ]
    },
    {
      "cell_type": "code",
      "source": [
        "df[['parroquia_urbana','causas']].groupby(['parroquia_urbana']).mean().plot.bar()\n",
        "plt.show()"
      ],
      "metadata": {
        "id": "slJvFEUgR2dJ",
        "colab": {
          "base_uri": "https://localhost:8080/",
          "height": 277
        },
        "outputId": "2eb3fd72-e438-4020-a6e3-e691f9f88b78"
      },
      "execution_count": 134,
      "outputs": [
        {
          "output_type": "display_data",
          "data": {
            "text/plain": [
              "<Figure size 432x288 with 1 Axes>"
            ],
            "image/png": "[encoded data removed]"
          },
          "metadata": {
            "needs_background": "light"
          }
        }
      ]
    },
    {
      "cell_type": "code",
      "source": [
        "y = df[['tipologia']] # atributos de destino\n",
        "X = df.iloc[:, 0:16] # atributos de entrada seran las primeras 13 columnas\n",
        "                    \n",
        "X.sample(10) #presentacion de los atriutos de entrada"
      ],
      "metadata": {
        "id": "q4hw9m6frIz_",
        "colab": {
          "base_uri": "https://localhost:8080/",
          "height": 363
        },
        "outputId": "40eb2c72-d924-4eeb-9947-b54a255d74e9"
      },
      "execution_count": 135,
      "outputs": [
        {
          "output_type": "execute_result",
          "data": {
            "text/plain": [
              "     dia  hora  tipologia  zona  parroquia_urbana  causas  nro_heridos  \\\n",
              "164    3     4         13     1                 3       2            2   \n",
              "194    1    15          3     1                 4       5            1   \n",
              "416    4     0         14     1                 5       3            0   \n",
              "155    1    14          3     1                 2       5            1   \n",
              "484    1    20          8     1                 6       4            0   \n",
              "259    7     5         13     1                 3       2            1   \n",
              "204    6    15         13     1                 2       3            0   \n",
              "200    5     6         13     1                 3       3            0   \n",
              "73     4    15         13     1                 2       1            0   \n",
              "0      2     4         13     1                 4       2            0   \n",
              "\n",
              "     nro_fallecidos  \n",
              "164               0  \n",
              "194               0  \n",
              "416               1  \n",
              "155               0  \n",
              "484               0  \n",
              "259               0  \n",
              "204               0  \n",
              "200               0  \n",
              "73                0  \n",
              "0                 0  "
            ],
            "text/html": [
              "\n",
              "  <div id=\"df-751c8856-dab2-4ade-a572-cda8fd7b3baa\">\n",
              "    <div class=\"colab-df-container\">\n",
              "      <div>\n",
              "<style scoped>\n",
              "    .dataframe tbody tr th:only-of-type {\n",
              "        vertical-align: middle;\n",
              "    }\n",
              "\n",
              "    .dataframe tbody tr th {\n",
              "        vertical-align: top;\n",
              "    }\n",
              "\n",
              "    .dataframe thead th {\n",
              "        text-align: right;\n",
              "    }\n",
              "</style>\n",
              "<table border=\"1\" class=\"dataframe\">\n",
              "  <thead>\n",
              "    <tr style=\"text-align: right;\">\n",
              "      <th></th>\n",
              "      <th>dia</th>\n",
              "      <th>hora</th>\n",
              "      <th>tipologia</th>\n",
              "      <th>zona</th>\n",
              "      <th>parroquia_urbana</th>\n",
              "      <th>causas</th>\n",
              "      <th>nro_heridos</th>\n",
              "      <th>nro_fallecidos</th>\n",
              "    </tr>\n",
              "  </thead>\n",
              "  <tbody>\n",
              "    <tr>\n",
              "      <th>164</th>\n",
              "      <td>3</td>\n",
              "      <td>4</td>\n",
              "      <td>13</td>\n",
              "      <td>1</td>\n",
              "      <td>3</td>\n",
              "      <td>2</td>\n",
              "      <td>2</td>\n",
              "      <td>0</td>\n",
              "    </tr>\n",
              "    <tr>\n",
              "      <th>194</th>\n",
              "      <td>1</td>\n",
              "      <td>15</td>\n",
              "      <td>3</td>\n",
              "      <td>1</td>\n",
              "      <td>4</td>\n",
              "      <td>5</td>\n",
              "      <td>1</td>\n",
              "      <td>0</td>\n",
              "    </tr>\n",
              "    <tr>\n",
              "      <th>416</th>\n",
              "      <td>4</td>\n",
              "      <td>0</td>\n",
              "      <td>14</td>\n",
              "      <td>1</td>\n",
              "      <td>5</td>\n",
              "      <td>3</td>\n",
              "      <td>0</td>\n",
              "      <td>1</td>\n",
              "    </tr>\n",
              "    <tr>\n",
              "      <th>155</th>\n",
              "      <td>1</td>\n",
              "      <td>14</td>\n",
              "      <td>3</td>\n",
              "      <td>1</td>\n",
              "      <td>2</td>\n",
              "      <td>5</td>\n",
              "      <td>1</td>\n",
              "      <td>0</td>\n",
              "    </tr>\n",
              "    <tr>\n",
              "      <th>484</th>\n",
              "      <td>1</td>\n",
              "      <td>20</td>\n",
              "      <td>8</td>\n",
              "      <td>1</td>\n",
              "      <td>6</td>\n",
              "      <td>4</td>\n",
              "      <td>0</td>\n",
              "      <td>0</td>\n",
              "    </tr>\n",
              "    <tr>\n",
              "      <th>259</th>\n",
              "      <td>7</td>\n",
              "      <td>5</td>\n",
              "      <td>13</td>\n",
              "      <td>1</td>\n",
              "      <td>3</td>\n",
              "      <td>2</td>\n",
              "      <td>1</td>\n",
              "      <td>0</td>\n",
              "    </tr>\n",
              "    <tr>\n",
              "      <th>204</th>\n",
              "      <td>6</td>\n",
              "      <td>15</td>\n",
              "      <td>13</td>\n",
              "      <td>1</td>\n",
              "      <td>2</td>\n",
              "      <td>3</td>\n",
              "      <td>0</td>\n",
              "      <td>0</td>\n",
              "    </tr>\n",
              "    <tr>\n",
              "      <th>200</th>\n",
              "      <td>5</td>\n",
              "      <td>6</td>\n",
              "      <td>13</td>\n",
              "      <td>1</td>\n",
              "      <td>3</td>\n",
              "      <td>3</td>\n",
              "      <td>0</td>\n",
              "      <td>0</td>\n",
              "    </tr>\n",
              "    <tr>\n",
              "      <th>73</th>\n",
              "      <td>4</td>\n",
              "      <td>15</td>\n",
              "      <td>13</td>\n",
              "      <td>1</td>\n",
              "      <td>2</td>\n",
              "      <td>1</td>\n",
              "      <td>0</td>\n",
              "      <td>0</td>\n",
              "    </tr>\n",
              "    <tr>\n",
              "      <th>0</th>\n",
              "      <td>2</td>\n",
              "      <td>4</td>\n",
              "      <td>13</td>\n",
              "      <td>1</td>\n",
              "      <td>4</td>\n",
              "      <td>2</td>\n",
              "      <td>0</td>\n",
              "      <td>0</td>\n",
              "    </tr>\n",
              "  </tbody>\n",
              "</table>\n",
              "</div>\n",
              "      <button class=\"colab-df-convert\" onclick=\"convertToInteractive('df-751c8856-dab2-4ade-a572-cda8fd7b3baa')\"\n",
              "              title=\"Convert this dataframe to an interactive table.\"\n",
              "              style=\"display:none;\">\n",
              "        \n",
              "  <svg xmlns=\"http://www.w3.org/2000/svg\" height=\"24px\"viewBox=\"0 0 24 24\"\n",
              "       width=\"24px\">\n",
              "    <path d=\"M0 0h24v24H0V0z\" fill=\"none\"/>\n",
              "    <path d=\"M18.56 5.44l.94 2.06.94-2.06 2.06-.94-2.06-.94-.94-2.06-.94 2.06-2.06.94zm-11 1L8.5 8.5l.94-2.06 2.06-.94-2.06-.94L8.5 2.5l-.94 2.06-2.06.94zm10 10l.94 2.06.94-2.06 2.06-.94-2.06-.94-.94-2.06-.94 2.06-2.06.94z\"/><path d=\"M17.41 7.96l-1.37-1.37c-.4-.4-.92-.59-1.43-.59-.52 0-1.04.2-1.43.59L10.3 9.45l-7.72 7.72c-.78.78-.78 2.05 0 2.83L4 21.41c.39.39.9.59 1.41.59.51 0 1.02-.2 1.41-.59l7.78-7.78 2.81-2.81c.8-.78.8-2.07 0-2.86zM5.41 20L4 18.59l7.72-7.72 1.47 1.35L5.41 20z\"/>\n",
              "  </svg>\n",
              "      </button>\n",
              "      \n",
              "  <style>\n",
              "    .colab-df-container {\n",
              "      display:flex;\n",
              "      flex-wrap:wrap;\n",
              "      gap: 12px;\n",
              "    }\n",
              "\n",
              "    .colab-df-convert {\n",
              "      background-color: #E8F0FE;\n",
              "      border: none;\n",
              "      border-radius: 50%;\n",
              "      cursor: pointer;\n",
              "      display: none;\n",
              "      fill: #1967D2;\n",
              "      height: 32px;\n",
              "      padding: 0 0 0 0;\n",
              "      width: 32px;\n",
              "    }\n",
              "\n",
              "    .colab-df-convert:hover {\n",
              "      background-color: #E2EBFA;\n",
              "      box-shadow: 0px 1px 2px rgba(60, 64, 67, 0.3), 0px 1px 3px 1px rgba(60, 64, 67, 0.15);\n",
              "      fill: #174EA6;\n",
              "    }\n",
              "\n",
              "    [theme=dark] .colab-df-convert {\n",
              "      background-color: #3B4455;\n",
              "      fill: #D2E3FC;\n",
              "    }\n",
              "\n",
              "    [theme=dark] .colab-df-convert:hover {\n",
              "      background-color: #434B5C;\n",
              "      box-shadow: 0px 1px 3px 1px rgba(0, 0, 0, 0.15);\n",
              "      filter: drop-shadow(0px 1px 2px rgba(0, 0, 0, 0.3));\n",
              "      fill: #FFFFFF;\n",
              "    }\n",
              "  </style>\n",
              "\n",
              "      <script>\n",
              "        const buttonEl =\n",
              "          document.querySelector('#df-751c8856-dab2-4ade-a572-cda8fd7b3baa button.colab-df-convert');\n",
              "        buttonEl.style.display =\n",
              "          google.colab.kernel.accessAllowed ? 'block' : 'none';\n",
              "\n",
              "        async function convertToInteractive(key) {\n",
              "          const element = document.querySelector('#df-751c8856-dab2-4ade-a572-cda8fd7b3baa');\n",
              "          const dataTable =\n",
              "            await google.colab.kernel.invokeFunction('convertToInteractive',\n",
              "                                                     [key], {});\n",
              "          if (!dataTable) return;\n",
              "\n",
              "          const docLinkHtml = 'Like what you see? Visit the ' +\n",
              "            '<a target=\"_blank\" href=https://colab.research.google.com/notebooks/data_table.ipynb>data table notebook</a>'\n",
              "            + ' to learn more about interactive tables.';\n",
              "          element.innerHTML = '';\n",
              "          dataTable['output_type'] = 'display_data';\n",
              "          await google.colab.output.renderOutput(dataTable, element);\n",
              "          const docLink = document.createElement('div');\n",
              "          docLink.innerHTML = docLinkHtml;\n",
              "          element.appendChild(docLink);\n",
              "        }\n",
              "      </script>\n",
              "    </div>\n",
              "  </div>\n",
              "  "
            ]
          },
          "metadata": {},
          "execution_count": 135
        }
      ]
    },
    {
      "cell_type": "code",
      "source": [
        ""
      ],
      "metadata": {
        "id": "QigNiSxmkmkT"
      },
      "execution_count": 135,
      "outputs": []
    },
    {
      "cell_type": "code",
      "source": [
        "y.head() # presentacion del atributo de destino"
      ],
      "metadata": {
        "id": "0unKdU8nruZR",
        "colab": {
          "base_uri": "https://localhost:8080/",
          "height": 206
        },
        "outputId": "1bc1a587-c914-48be-f50e-d501d8f8b1e3"
      },
      "execution_count": 136,
      "outputs": [
        {
          "output_type": "execute_result",
          "data": {
            "text/plain": [
              "   tipologia\n",
              "0         13\n",
              "1         13\n",
              "2         17\n",
              "3          8\n",
              "4         13"
            ],
            "text/html": [
              "\n",
              "  <div id=\"df-3a832ffe-83df-4e96-87ed-43202960c775\">\n",
              "    <div class=\"colab-df-container\">\n",
              "      <div>\n",
              "<style scoped>\n",
              "    .dataframe tbody tr th:only-of-type {\n",
              "        vertical-align: middle;\n",
              "    }\n",
              "\n",
              "    .dataframe tbody tr th {\n",
              "        vertical-align: top;\n",
              "    }\n",
              "\n",
              "    .dataframe thead th {\n",
              "        text-align: right;\n",
              "    }\n",
              "</style>\n",
              "<table border=\"1\" class=\"dataframe\">\n",
              "  <thead>\n",
              "    <tr style=\"text-align: right;\">\n",
              "      <th></th>\n",
              "      <th>tipologia</th>\n",
              "    </tr>\n",
              "  </thead>\n",
              "  <tbody>\n",
              "    <tr>\n",
              "      <th>0</th>\n",
              "      <td>13</td>\n",
              "    </tr>\n",
              "    <tr>\n",
              "      <th>1</th>\n",
              "      <td>13</td>\n",
              "    </tr>\n",
              "    <tr>\n",
              "      <th>2</th>\n",
              "      <td>17</td>\n",
              "    </tr>\n",
              "    <tr>\n",
              "      <th>3</th>\n",
              "      <td>8</td>\n",
              "    </tr>\n",
              "    <tr>\n",
              "      <th>4</th>\n",
              "      <td>13</td>\n",
              "    </tr>\n",
              "  </tbody>\n",
              "</table>\n",
              "</div>\n",
              "      <button class=\"colab-df-convert\" onclick=\"convertToInteractive('df-3a832ffe-83df-4e96-87ed-43202960c775')\"\n",
              "              title=\"Convert this dataframe to an interactive table.\"\n",
              "              style=\"display:none;\">\n",
              "        \n",
              "  <svg xmlns=\"http://www.w3.org/2000/svg\" height=\"24px\"viewBox=\"0 0 24 24\"\n",
              "       width=\"24px\">\n",
              "    <path d=\"M0 0h24v24H0V0z\" fill=\"none\"/>\n",
              "    <path d=\"M18.56 5.44l.94 2.06.94-2.06 2.06-.94-2.06-.94-.94-2.06-.94 2.06-2.06.94zm-11 1L8.5 8.5l.94-2.06 2.06-.94-2.06-.94L8.5 2.5l-.94 2.06-2.06.94zm10 10l.94 2.06.94-2.06 2.06-.94-2.06-.94-.94-2.06-.94 2.06-2.06.94z\"/><path d=\"M17.41 7.96l-1.37-1.37c-.4-.4-.92-.59-1.43-.59-.52 0-1.04.2-1.43.59L10.3 9.45l-7.72 7.72c-.78.78-.78 2.05 0 2.83L4 21.41c.39.39.9.59 1.41.59.51 0 1.02-.2 1.41-.59l7.78-7.78 2.81-2.81c.8-.78.8-2.07 0-2.86zM5.41 20L4 18.59l7.72-7.72 1.47 1.35L5.41 20z\"/>\n",
              "  </svg>\n",
              "      </button>\n",
              "      \n",
              "  <style>\n",
              "    .colab-df-container {\n",
              "      display:flex;\n",
              "      flex-wrap:wrap;\n",
              "      gap: 12px;\n",
              "    }\n",
              "\n",
              "    .colab-df-convert {\n",
              "      background-color: #E8F0FE;\n",
              "      border: none;\n",
              "      border-radius: 50%;\n",
              "      cursor: pointer;\n",
              "      display: none;\n",
              "      fill: #1967D2;\n",
              "      height: 32px;\n",
              "      padding: 0 0 0 0;\n",
              "      width: 32px;\n",
              "    }\n",
              "\n",
              "    .colab-df-convert:hover {\n",
              "      background-color: #E2EBFA;\n",
              "      box-shadow: 0px 1px 2px rgba(60, 64, 67, 0.3), 0px 1px 3px 1px rgba(60, 64, 67, 0.15);\n",
              "      fill: #174EA6;\n",
              "    }\n",
              "\n",
              "    [theme=dark] .colab-df-convert {\n",
              "      background-color: #3B4455;\n",
              "      fill: #D2E3FC;\n",
              "    }\n",
              "\n",
              "    [theme=dark] .colab-df-convert:hover {\n",
              "      background-color: #434B5C;\n",
              "      box-shadow: 0px 1px 3px 1px rgba(0, 0, 0, 0.15);\n",
              "      filter: drop-shadow(0px 1px 2px rgba(0, 0, 0, 0.3));\n",
              "      fill: #FFFFFF;\n",
              "    }\n",
              "  </style>\n",
              "\n",
              "      <script>\n",
              "        const buttonEl =\n",
              "          document.querySelector('#df-3a832ffe-83df-4e96-87ed-43202960c775 button.colab-df-convert');\n",
              "        buttonEl.style.display =\n",
              "          google.colab.kernel.accessAllowed ? 'block' : 'none';\n",
              "\n",
              "        async function convertToInteractive(key) {\n",
              "          const element = document.querySelector('#df-3a832ffe-83df-4e96-87ed-43202960c775');\n",
              "          const dataTable =\n",
              "            await google.colab.kernel.invokeFunction('convertToInteractive',\n",
              "                                                     [key], {});\n",
              "          if (!dataTable) return;\n",
              "\n",
              "          const docLinkHtml = 'Like what you see? Visit the ' +\n",
              "            '<a target=\"_blank\" href=https://colab.research.google.com/notebooks/data_table.ipynb>data table notebook</a>'\n",
              "            + ' to learn more about interactive tables.';\n",
              "          element.innerHTML = '';\n",
              "          dataTable['output_type'] = 'display_data';\n",
              "          await google.colab.output.renderOutput(dataTable, element);\n",
              "          const docLink = document.createElement('div');\n",
              "          docLink.innerHTML = docLinkHtml;\n",
              "          element.appendChild(docLink);\n",
              "        }\n",
              "      </script>\n",
              "    </div>\n",
              "  </div>\n",
              "  "
            ]
          },
          "metadata": {},
          "execution_count": 136
        }
      ]
    },
    {
      "cell_type": "code",
      "source": [
        "X_train, X_test, y_train, y_test = train_test_split(X, y, test_size=0.3, random_state=0)# stratify=y\n",
        "print('Son {} datos para entrenamiento y {} datos para prueba'.format(X_train.shape[0], X_test.shape[0]))"
      ],
      "metadata": {
        "id": "wJwY2rcrr1mD",
        "colab": {
          "base_uri": "https://localhost:8080/"
        },
        "outputId": "5d28a534-e722-4a76-fc24-a0bad25eb6aa"
      },
      "execution_count": 137,
      "outputs": [
        {
          "output_type": "stream",
          "name": "stdout",
          "text": [
            "Son 354 datos para entrenamiento y 152 datos para prueba\n"
          ]
        }
      ]
    },
    {
      "cell_type": "code",
      "source": [
        "from sklearn.tree import DecisionTreeClassifier\n",
        "from sklearn.metrics import confusion_matrix, classification_report, plot_confusion_matrix\n",
        "\n",
        "classifier = DecisionTreeClassifier(criterion = 'entropy')\n",
        "\n",
        "classifier.fit(X_train,y_train)\n",
        "\n",
        "y_pred = classifier.predict(X_test)\n",
        "\n",
        "\n",
        "\n",
        "\n",
        "\n"
      ],
      "metadata": {
        "id": "nDoan01LSI9k"
      },
      "execution_count": 138,
      "outputs": []
    },
    {
      "cell_type": "code",
      "source": [
        "# Resumen de las predicciones hechas por el clasificador\n",
        "print(classification_report(y_test, y_pred))\n",
        "matriz=confusion_matrix(y_test, y_pred)"
      ],
      "metadata": {
        "id": "5IU5Pjb0xi-M",
        "colab": {
          "base_uri": "https://localhost:8080/"
        },
        "outputId": "36eafe2a-713d-440b-ff3f-a86762d43a4f"
      },
      "execution_count": 139,
      "outputs": [
        {
          "output_type": "stream",
          "name": "stdout",
          "text": [
            "              precision    recall  f1-score   support\n",
            "\n",
            "           1       0.50      1.00      0.67         1\n",
            "           2       1.00      0.50      0.67         2\n",
            "           3       1.00      1.00      1.00        12\n",
            "           6       0.86      1.00      0.92         6\n",
            "           7       0.00      0.00      0.00         1\n",
            "           8       1.00      1.00      1.00        27\n",
            "           9       1.00      1.00      1.00        38\n",
            "          10       1.00      1.00      1.00        10\n",
            "          11       1.00      1.00      1.00         4\n",
            "          13       1.00      1.00      1.00        29\n",
            "          14       1.00      1.00      1.00        17\n",
            "          16       1.00      1.00      1.00         3\n",
            "          17       0.00      0.00      0.00         0\n",
            "          18       0.00      0.00      0.00         1\n",
            "          21       0.00      0.00      0.00         1\n",
            "\n",
            "    accuracy                           0.97       152\n",
            "   macro avg       0.69      0.70      0.68       152\n",
            "weighted avg       0.97      0.97      0.97       152\n",
            "\n"
          ]
        },
        {
          "output_type": "stream",
          "name": "stderr",
          "text": [
            "/usr/local/lib/python3.7/dist-packages/sklearn/metrics/_classification.py:1318: UndefinedMetricWarning:\n",
            "\n",
            "Precision and F-score are ill-defined and being set to 0.0 in labels with no predicted samples. Use `zero_division` parameter to control this behavior.\n",
            "\n",
            "/usr/local/lib/python3.7/dist-packages/sklearn/metrics/_classification.py:1318: UndefinedMetricWarning:\n",
            "\n",
            "Recall and F-score are ill-defined and being set to 0.0 in labels with no true samples. Use `zero_division` parameter to control this behavior.\n",
            "\n",
            "/usr/local/lib/python3.7/dist-packages/sklearn/metrics/_classification.py:1318: UndefinedMetricWarning:\n",
            "\n",
            "Precision and F-score are ill-defined and being set to 0.0 in labels with no predicted samples. Use `zero_division` parameter to control this behavior.\n",
            "\n",
            "/usr/local/lib/python3.7/dist-packages/sklearn/metrics/_classification.py:1318: UndefinedMetricWarning:\n",
            "\n",
            "Recall and F-score are ill-defined and being set to 0.0 in labels with no true samples. Use `zero_division` parameter to control this behavior.\n",
            "\n",
            "/usr/local/lib/python3.7/dist-packages/sklearn/metrics/_classification.py:1318: UndefinedMetricWarning:\n",
            "\n",
            "Precision and F-score are ill-defined and being set to 0.0 in labels with no predicted samples. Use `zero_division` parameter to control this behavior.\n",
            "\n",
            "/usr/local/lib/python3.7/dist-packages/sklearn/metrics/_classification.py:1318: UndefinedMetricWarning:\n",
            "\n",
            "Recall and F-score are ill-defined and being set to 0.0 in labels with no true samples. Use `zero_division` parameter to control this behavior.\n",
            "\n"
          ]
        }
      ]
    },
    {
      "cell_type": "code",
      "source": [
        "#Matriz de confusion\n",
        "ax= plt.subplot()\n",
        "sns.heatmap(matriz, annot=True, cmap=\"Blues\",fmt='g');\n",
        "ax.set_xlabel('Predicted labels');ax.set_ylabel('True labels'); \n",
        "ax.set_title('Confusion Matrix'); "
      ],
      "metadata": {
        "id": "HNn-8xKlxe6E",
        "colab": {
          "base_uri": "https://localhost:8080/",
          "height": 295
        },
        "outputId": "ec3305df-cc52-4a86-8b2b-fd36018092e3"
      },
      "execution_count": 140,
      "outputs": [
        {
          "output_type": "display_data",
          "data": {
            "text/plain": [
              "<Figure size 432x288 with 2 Axes>"
            ],
            "image/png": "[encoded data removed]"
          },
          "metadata": {
            "needs_background": "light"
          }
        }
      ]
    },
    {
      "cell_type": "code",
      "source": [
        "# Precisión\n",
        "from sklearn.metrics import accuracy_score\n",
        "print('Precision árboles de decisión: ',accuracy_score(y_pred,y_test))"
      ],
      "metadata": {
        "id": "BqcF-Y1cskkY",
        "colab": {
          "base_uri": "https://localhost:8080/"
        },
        "outputId": "cac856e7-f121-47a9-9a6a-25cd5c342c8a"
      },
      "execution_count": 141,
      "outputs": [
        {
          "output_type": "stream",
          "name": "stdout",
          "text": [
            "Precision árboles de decisión:  0.9736842105263158\n"
          ]
        }
      ]
    },
    {
      "cell_type": "code",
      "source": [
        "ds.groupby('tipologia').size()"
      ],
      "metadata": {
        "id": "ca1IbgZyyaA8",
        "colab": {
          "base_uri": "https://localhost:8080/"
        },
        "outputId": "f42b7de5-8052-488d-86ff-5ce2b142d2e8"
      },
      "execution_count": 142,
      "outputs": [
        {
          "output_type": "execute_result",
          "data": {
            "text/plain": [
              "tipologia\n",
              "1       2\n",
              "2       8\n",
              "3      45\n",
              "4       2\n",
              "6      17\n",
              "7       3\n",
              "8      96\n",
              "9     106\n",
              "10     36\n",
              "11     10\n",
              "12      1\n",
              "13    109\n",
              "14     54\n",
              "16     12\n",
              "17      1\n",
              "18      2\n",
              "20      1\n",
              "21      1\n",
              "dtype: int64"
            ]
          },
          "metadata": {},
          "execution_count": 142
        }
      ]
    },
    {
      "cell_type": "code",
      "source": [
        "ds.hist(edgecolor='red', linewidth=1.2)\n",
        "\n",
        "from pandas.plotting import scatter_matrix\n",
        "# Matriz de diagramas de dispersión\n",
        "#scatter_matrix(ds,figsize=(15,15))\n",
        "#plt.show()"
      ],
      "metadata": {
        "id": "locygKZe3L-R",
        "colab": {
          "base_uri": "https://localhost:8080/",
          "height": 281
        },
        "outputId": "41325b76-0f70-4193-ae0f-9c99cce37418"
      },
      "execution_count": 143,
      "outputs": [
        {
          "output_type": "display_data",
          "data": {
            "text/plain": [
              "<Figure size 432x288 with 9 Axes>"
            ],
            "image/png": "[encoded data removed]"
          },
          "metadata": {
            "needs_background": "light"
          }
        }
      ]
    },
    {
      "cell_type": "code",
      "source": [
        "import seaborn as sns #permite generar fácilmente elegantes gráficos, proporciona una interfaz de alto nivel que es realmente sencilla de aprender.\n",
        "f, ax = plt.subplots(1,2,figsize = (18,8))\n",
        "\n",
        "sns.countplot('causas', hue = 'parroquia_urbana', data = df, ax = ax[1]) #Muestre el conteo de observaciones en cada contenedor categórico usando barras.\n",
        "ax[1].set_title('causas')"
      ],
      "metadata": {
        "id": "KejCUSSS4ryj",
        "colab": {
          "base_uri": "https://localhost:8080/",
          "height": 620
        },
        "outputId": "570acb1b-8aed-4b7d-db77-660ee32d8121"
      },
      "execution_count": 144,
      "outputs": [
        {
          "output_type": "stream",
          "name": "stderr",
          "text": [
            "/usr/local/lib/python3.7/dist-packages/seaborn/_decorators.py:43: FutureWarning:\n",
            "\n",
            "Pass the following variable as a keyword arg: x. From version 0.12, the only valid positional argument will be `data`, and passing other arguments without an explicit keyword will result in an error or misinterpretation.\n",
            "\n"
          ]
        },
        {
          "output_type": "execute_result",
          "data": {
            "text/plain": [
              "Text(0.5, 1.0, 'causas')"
            ]
          },
          "metadata": {},
          "execution_count": 144
        },
        {
          "output_type": "display_data",
          "data": {
            "text/plain": [
              "<Figure size 1296x576 with 2 Axes>"
            ],
            "image/png": "[encoded data removed]"
          },
          "metadata": {
            "needs_background": "light"
          }
        }
      ]
    },
    {
      "cell_type": "code",
      "source": [
        ""
      ],
      "metadata": {
        "id": "3lmbEKi8jvF1"
      },
      "execution_count": 144,
      "outputs": []
    }
  ]
}